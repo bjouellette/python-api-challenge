{
 "cells": [
  {
   "cell_type": "markdown",
   "metadata": {},
   "source": [
    "# VacationPy\n",
    "----\n",
    "\n",
    "#### Note\n",
    "* Keep an eye on your API usage. Use https://developers.google.com/maps/reporting/gmp-reporting as reference for how to monitor your usage and billing.\n",
    "\n",
    "* Instructions have been included for each segment. You do not have to follow them exactly, but they are included to help you think through the steps."
   ]
  },
  {
   "cell_type": "code",
   "execution_count": 94,
   "metadata": {
    "ExecuteTime": {
     "end_time": "2020-08-30T16:54:14.760003Z",
     "start_time": "2020-08-30T16:54:11.381000Z"
    }
   },
   "outputs": [],
   "source": [
    "# Dependencies and Setup\n",
    "import matplotlib.pyplot as plt\n",
    "import pandas as pd\n",
    "import numpy as np\n",
    "import requests\n",
    "import gmaps\n",
    "import os\n",
    "import json\n",
    "#!jupyter nbextension enable --py gmaps\n",
    "\n",
    "# Import API key\n",
    "from api_keys import g_key"
   ]
  },
  {
   "cell_type": "markdown",
   "metadata": {},
   "source": [
    "### Store Part I results into DataFrame\n",
    "* Load the csv exported in Part I to a DataFrame"
   ]
  },
  {
   "cell_type": "code",
   "execution_count": 95,
   "metadata": {
    "ExecuteTime": {
     "end_time": "2020-08-30T16:54:15.147979Z",
     "start_time": "2020-08-30T16:54:14.867738Z"
    }
   },
   "outputs": [
    {
     "data": {
      "text/html": [
       "<div>\n",
       "<style scoped>\n",
       "    .dataframe tbody tr th:only-of-type {\n",
       "        vertical-align: middle;\n",
       "    }\n",
       "\n",
       "    .dataframe tbody tr th {\n",
       "        vertical-align: top;\n",
       "    }\n",
       "\n",
       "    .dataframe thead th {\n",
       "        text-align: right;\n",
       "    }\n",
       "</style>\n",
       "<table border=\"1\" class=\"dataframe\">\n",
       "  <thead>\n",
       "    <tr style=\"text-align: right;\">\n",
       "      <th></th>\n",
       "      <th>City</th>\n",
       "      <th>Lat</th>\n",
       "      <th>Lng</th>\n",
       "      <th>Max Temp</th>\n",
       "      <th>Humidity</th>\n",
       "      <th>Cloudiness</th>\n",
       "      <th>Wind Speed</th>\n",
       "      <th>Country</th>\n",
       "      <th>Date</th>\n",
       "    </tr>\n",
       "  </thead>\n",
       "  <tbody>\n",
       "    <tr>\n",
       "      <th>0</th>\n",
       "      <td>Kakonko</td>\n",
       "      <td>-3.28</td>\n",
       "      <td>30.96</td>\n",
       "      <td>68.79</td>\n",
       "      <td>52</td>\n",
       "      <td>25</td>\n",
       "      <td>2.86</td>\n",
       "      <td>TZ</td>\n",
       "      <td>1598736704</td>\n",
       "    </tr>\n",
       "    <tr>\n",
       "      <th>1</th>\n",
       "      <td>Leningradskiy</td>\n",
       "      <td>69.38</td>\n",
       "      <td>178.42</td>\n",
       "      <td>36.84</td>\n",
       "      <td>88</td>\n",
       "      <td>100</td>\n",
       "      <td>10.13</td>\n",
       "      <td>RU</td>\n",
       "      <td>1598736705</td>\n",
       "    </tr>\n",
       "    <tr>\n",
       "      <th>2</th>\n",
       "      <td>Presidencia Roque Sáenz Peña</td>\n",
       "      <td>-26.79</td>\n",
       "      <td>-60.44</td>\n",
       "      <td>83.91</td>\n",
       "      <td>45</td>\n",
       "      <td>97</td>\n",
       "      <td>11.30</td>\n",
       "      <td>AR</td>\n",
       "      <td>1598736705</td>\n",
       "    </tr>\n",
       "    <tr>\n",
       "      <th>3</th>\n",
       "      <td>Rikitea</td>\n",
       "      <td>-23.12</td>\n",
       "      <td>-134.97</td>\n",
       "      <td>70.03</td>\n",
       "      <td>68</td>\n",
       "      <td>58</td>\n",
       "      <td>6.98</td>\n",
       "      <td>PF</td>\n",
       "      <td>1598736705</td>\n",
       "    </tr>\n",
       "    <tr>\n",
       "      <th>4</th>\n",
       "      <td>Camacha</td>\n",
       "      <td>33.08</td>\n",
       "      <td>-16.33</td>\n",
       "      <td>71.60</td>\n",
       "      <td>64</td>\n",
       "      <td>40</td>\n",
       "      <td>12.75</td>\n",
       "      <td>PT</td>\n",
       "      <td>1598736706</td>\n",
       "    </tr>\n",
       "  </tbody>\n",
       "</table>\n",
       "</div>"
      ],
      "text/plain": [
       "                           City    Lat     Lng  Max Temp  Humidity  \\\n",
       "0                       Kakonko  -3.28   30.96     68.79        52   \n",
       "1                 Leningradskiy  69.38  178.42     36.84        88   \n",
       "2  Presidencia Roque Sáenz Peña -26.79  -60.44     83.91        45   \n",
       "3                       Rikitea -23.12 -134.97     70.03        68   \n",
       "4                       Camacha  33.08  -16.33     71.60        64   \n",
       "\n",
       "   Cloudiness  Wind Speed Country        Date  \n",
       "0          25        2.86      TZ  1598736704  \n",
       "1         100       10.13      RU  1598736705  \n",
       "2          97       11.30      AR  1598736705  \n",
       "3          58        6.98      PF  1598736705  \n",
       "4          40       12.75      PT  1598736706  "
      ]
     },
     "execution_count": 95,
     "metadata": {},
     "output_type": "execute_result"
    }
   ],
   "source": [
    "weather_data = pd.read_csv('WeatherPy.csv')\n",
    "weather_data.head()"
   ]
  },
  {
   "cell_type": "code",
   "execution_count": 96,
   "metadata": {
    "ExecuteTime": {
     "end_time": "2020-08-30T16:54:16.223028Z",
     "start_time": "2020-08-30T16:54:16.215085Z"
    }
   },
   "outputs": [],
   "source": [
    "weather_data.rename(columns = {'Lat':'Latitude', 'Lng': 'Longitude'}, inplace = True)"
   ]
  },
  {
   "cell_type": "code",
   "execution_count": 97,
   "metadata": {
    "ExecuteTime": {
     "end_time": "2020-08-30T16:54:17.169479Z",
     "start_time": "2020-08-30T16:54:17.137564Z"
    }
   },
   "outputs": [
    {
     "data": {
      "text/html": [
       "<div>\n",
       "<style scoped>\n",
       "    .dataframe tbody tr th:only-of-type {\n",
       "        vertical-align: middle;\n",
       "    }\n",
       "\n",
       "    .dataframe tbody tr th {\n",
       "        vertical-align: top;\n",
       "    }\n",
       "\n",
       "    .dataframe thead th {\n",
       "        text-align: right;\n",
       "    }\n",
       "</style>\n",
       "<table border=\"1\" class=\"dataframe\">\n",
       "  <thead>\n",
       "    <tr style=\"text-align: right;\">\n",
       "      <th></th>\n",
       "      <th>City</th>\n",
       "      <th>Latitude</th>\n",
       "      <th>Longitude</th>\n",
       "      <th>Max Temp</th>\n",
       "      <th>Humidity</th>\n",
       "      <th>Cloudiness</th>\n",
       "      <th>Wind Speed</th>\n",
       "      <th>Country</th>\n",
       "      <th>Date</th>\n",
       "    </tr>\n",
       "  </thead>\n",
       "  <tbody>\n",
       "    <tr>\n",
       "      <th>0</th>\n",
       "      <td>Kakonko</td>\n",
       "      <td>-3.28</td>\n",
       "      <td>30.96</td>\n",
       "      <td>68.79</td>\n",
       "      <td>52</td>\n",
       "      <td>25</td>\n",
       "      <td>2.86</td>\n",
       "      <td>TZ</td>\n",
       "      <td>1598736704</td>\n",
       "    </tr>\n",
       "    <tr>\n",
       "      <th>1</th>\n",
       "      <td>Leningradskiy</td>\n",
       "      <td>69.38</td>\n",
       "      <td>178.42</td>\n",
       "      <td>36.84</td>\n",
       "      <td>88</td>\n",
       "      <td>100</td>\n",
       "      <td>10.13</td>\n",
       "      <td>RU</td>\n",
       "      <td>1598736705</td>\n",
       "    </tr>\n",
       "    <tr>\n",
       "      <th>2</th>\n",
       "      <td>Presidencia Roque Sáenz Peña</td>\n",
       "      <td>-26.79</td>\n",
       "      <td>-60.44</td>\n",
       "      <td>83.91</td>\n",
       "      <td>45</td>\n",
       "      <td>97</td>\n",
       "      <td>11.30</td>\n",
       "      <td>AR</td>\n",
       "      <td>1598736705</td>\n",
       "    </tr>\n",
       "    <tr>\n",
       "      <th>3</th>\n",
       "      <td>Rikitea</td>\n",
       "      <td>-23.12</td>\n",
       "      <td>-134.97</td>\n",
       "      <td>70.03</td>\n",
       "      <td>68</td>\n",
       "      <td>58</td>\n",
       "      <td>6.98</td>\n",
       "      <td>PF</td>\n",
       "      <td>1598736705</td>\n",
       "    </tr>\n",
       "    <tr>\n",
       "      <th>4</th>\n",
       "      <td>Camacha</td>\n",
       "      <td>33.08</td>\n",
       "      <td>-16.33</td>\n",
       "      <td>71.60</td>\n",
       "      <td>64</td>\n",
       "      <td>40</td>\n",
       "      <td>12.75</td>\n",
       "      <td>PT</td>\n",
       "      <td>1598736706</td>\n",
       "    </tr>\n",
       "  </tbody>\n",
       "</table>\n",
       "</div>"
      ],
      "text/plain": [
       "                           City  Latitude  Longitude  Max Temp  Humidity  \\\n",
       "0                       Kakonko     -3.28      30.96     68.79        52   \n",
       "1                 Leningradskiy     69.38     178.42     36.84        88   \n",
       "2  Presidencia Roque Sáenz Peña    -26.79     -60.44     83.91        45   \n",
       "3                       Rikitea    -23.12    -134.97     70.03        68   \n",
       "4                       Camacha     33.08     -16.33     71.60        64   \n",
       "\n",
       "   Cloudiness  Wind Speed Country        Date  \n",
       "0          25        2.86      TZ  1598736704  \n",
       "1         100       10.13      RU  1598736705  \n",
       "2          97       11.30      AR  1598736705  \n",
       "3          58        6.98      PF  1598736705  \n",
       "4          40       12.75      PT  1598736706  "
      ]
     },
     "execution_count": 97,
     "metadata": {},
     "output_type": "execute_result"
    }
   ],
   "source": [
    "weather_data.head()"
   ]
  },
  {
   "cell_type": "markdown",
   "metadata": {},
   "source": [
    "### Humidity Heatmap\n",
    "* Configure gmaps.\n",
    "* Use the Lat and Lng as locations and Humidity as the weight.\n",
    "* Add Heatmap layer to map."
   ]
  },
  {
   "cell_type": "code",
   "execution_count": 113,
   "metadata": {
    "ExecuteTime": {
     "end_time": "2020-08-30T16:54:18.891874Z",
     "start_time": "2020-08-30T16:54:18.885888Z"
    }
   },
   "outputs": [],
   "source": [
    "gmaps.configure(api_key=g_key)"
   ]
  },
  {
   "cell_type": "code",
   "execution_count": 114,
   "metadata": {
    "ExecuteTime": {
     "end_time": "2020-08-30T16:54:20.184416Z",
     "start_time": "2020-08-30T16:54:20.128609Z"
    }
   },
   "outputs": [],
   "source": [
    "\n",
    "locations = weather_data[[\"Latitude\", \"Longitude\"]]\n",
    "humidity = weather_data[\"Humidity\"]\n",
    "fig = gmaps.figure()"
   ]
  },
  {
   "cell_type": "code",
   "execution_count": 115,
   "metadata": {
    "ExecuteTime": {
     "end_time": "2020-08-30T16:54:22.641844Z",
     "start_time": "2020-08-30T16:54:22.593972Z"
    }
   },
   "outputs": [],
   "source": [
    "heat_layer = gmaps.heatmap_layer(locations, weights=humidity, \n",
    "                                 dissipating=False, max_intensity=10,\n",
    "                                 point_radius = 1)\n"
   ]
  },
  {
   "cell_type": "code",
   "execution_count": 116,
   "metadata": {
    "ExecuteTime": {
     "end_time": "2020-08-30T16:54:23.530469Z",
     "start_time": "2020-08-30T16:54:23.516505Z"
    }
   },
   "outputs": [
    {
     "ename": "AttributeError",
     "evalue": "'Figure' object has no attribute 'savefig'",
     "output_type": "error",
     "traceback": [
      "\u001b[0;31m---------------------------------------------------------------------------\u001b[0m",
      "\u001b[0;31mAttributeError\u001b[0m                            Traceback (most recent call last)",
      "\u001b[0;32m<ipython-input-116-da175e519f4a>\u001b[0m in \u001b[0;36m<module>\u001b[0;34m\u001b[0m\n\u001b[1;32m      1\u001b[0m \u001b[0mfig\u001b[0m\u001b[0;34m.\u001b[0m\u001b[0madd_layer\u001b[0m\u001b[0;34m(\u001b[0m\u001b[0mheat_layer\u001b[0m\u001b[0;34m)\u001b[0m\u001b[0;34m\u001b[0m\u001b[0;34m\u001b[0m\u001b[0m\n\u001b[1;32m      2\u001b[0m \u001b[0mfig\u001b[0m\u001b[0;34m\u001b[0m\u001b[0;34m\u001b[0m\u001b[0m\n\u001b[0;32m----> 3\u001b[0;31m \u001b[0mfig\u001b[0m\u001b[0;34m.\u001b[0m\u001b[0msavefig\u001b[0m\u001b[0;34m(\u001b[0m\u001b[0;34m\"map_export.png\"\u001b[0m\u001b[0;34m,\u001b[0m \u001b[0mdpi\u001b[0m\u001b[0;34m=\u001b[0m\u001b[0;36m300\u001b[0m\u001b[0;34m)\u001b[0m\u001b[0;34m\u001b[0m\u001b[0;34m\u001b[0m\u001b[0m\n\u001b[0m",
      "\u001b[0;31mAttributeError\u001b[0m: 'Figure' object has no attribute 'savefig'"
     ]
    }
   ],
   "source": [
    "fig.add_layer(heat_layer)\n",
    "fig\n",
    "fig.savefig(\"map_export.png\", dpi=300)\n"
   ]
  },
  {
   "cell_type": "markdown",
   "metadata": {},
   "source": [
    "### Create new DataFrame fitting weather criteria\n",
    "* Narrow down the cities to fit weather conditions.\n",
    "* Drop any rows will null values."
   ]
  },
  {
   "cell_type": "code",
   "execution_count": 117,
   "metadata": {},
   "outputs": [
    {
     "data": {
      "text/html": [
       "<div>\n",
       "<style scoped>\n",
       "    .dataframe tbody tr th:only-of-type {\n",
       "        vertical-align: middle;\n",
       "    }\n",
       "\n",
       "    .dataframe tbody tr th {\n",
       "        vertical-align: top;\n",
       "    }\n",
       "\n",
       "    .dataframe thead th {\n",
       "        text-align: right;\n",
       "    }\n",
       "</style>\n",
       "<table border=\"1\" class=\"dataframe\">\n",
       "  <thead>\n",
       "    <tr style=\"text-align: right;\">\n",
       "      <th></th>\n",
       "      <th>City</th>\n",
       "      <th>Latitude</th>\n",
       "      <th>Longitude</th>\n",
       "      <th>Max Temp</th>\n",
       "      <th>Humidity</th>\n",
       "      <th>Cloudiness</th>\n",
       "      <th>Wind Speed</th>\n",
       "      <th>Country</th>\n",
       "      <th>Date</th>\n",
       "    </tr>\n",
       "  </thead>\n",
       "  <tbody>\n",
       "    <tr>\n",
       "      <th>299</th>\n",
       "      <td>Portland</td>\n",
       "      <td>45.52</td>\n",
       "      <td>-122.68</td>\n",
       "      <td>78.01</td>\n",
       "      <td>40</td>\n",
       "      <td>40</td>\n",
       "      <td>9.17</td>\n",
       "      <td>US</td>\n",
       "      <td>1598736517</td>\n",
       "    </tr>\n",
       "    <tr>\n",
       "      <th>300</th>\n",
       "      <td>Beitbridge</td>\n",
       "      <td>-22.22</td>\n",
       "      <td>30.00</td>\n",
       "      <td>79.56</td>\n",
       "      <td>24</td>\n",
       "      <td>82</td>\n",
       "      <td>0.74</td>\n",
       "      <td>ZW</td>\n",
       "      <td>1598736793</td>\n",
       "    </tr>\n",
       "    <tr>\n",
       "      <th>311</th>\n",
       "      <td>Pandamatenga</td>\n",
       "      <td>-18.53</td>\n",
       "      <td>25.63</td>\n",
       "      <td>75.43</td>\n",
       "      <td>35</td>\n",
       "      <td>85</td>\n",
       "      <td>0.85</td>\n",
       "      <td>BW</td>\n",
       "      <td>1598736797</td>\n",
       "    </tr>\n",
       "    <tr>\n",
       "      <th>381</th>\n",
       "      <td>Manbij</td>\n",
       "      <td>36.53</td>\n",
       "      <td>37.95</td>\n",
       "      <td>78.80</td>\n",
       "      <td>36</td>\n",
       "      <td>0</td>\n",
       "      <td>6.87</td>\n",
       "      <td>SY</td>\n",
       "      <td>1598736816</td>\n",
       "    </tr>\n",
       "    <tr>\n",
       "      <th>407</th>\n",
       "      <td>Siirt</td>\n",
       "      <td>37.93</td>\n",
       "      <td>41.94</td>\n",
       "      <td>77.11</td>\n",
       "      <td>20</td>\n",
       "      <td>0</td>\n",
       "      <td>3.89</td>\n",
       "      <td>TR</td>\n",
       "      <td>1598736825</td>\n",
       "    </tr>\n",
       "    <tr>\n",
       "      <th>456</th>\n",
       "      <td>Chanthaburi</td>\n",
       "      <td>12.83</td>\n",
       "      <td>102.17</td>\n",
       "      <td>79.00</td>\n",
       "      <td>10</td>\n",
       "      <td>30</td>\n",
       "      <td>1.92</td>\n",
       "      <td>TH</td>\n",
       "      <td>1598736840</td>\n",
       "    </tr>\n",
       "    <tr>\n",
       "      <th>556</th>\n",
       "      <td>Scalea</td>\n",
       "      <td>39.81</td>\n",
       "      <td>15.80</td>\n",
       "      <td>79.00</td>\n",
       "      <td>34</td>\n",
       "      <td>0</td>\n",
       "      <td>3.60</td>\n",
       "      <td>IT</td>\n",
       "      <td>1598736869</td>\n",
       "    </tr>\n",
       "  </tbody>\n",
       "</table>\n",
       "</div>"
      ],
      "text/plain": [
       "             City  Latitude  Longitude  Max Temp  Humidity  Cloudiness  \\\n",
       "299      Portland     45.52    -122.68     78.01        40          40   \n",
       "300    Beitbridge    -22.22      30.00     79.56        24          82   \n",
       "311  Pandamatenga    -18.53      25.63     75.43        35          85   \n",
       "381        Manbij     36.53      37.95     78.80        36           0   \n",
       "407         Siirt     37.93      41.94     77.11        20           0   \n",
       "456   Chanthaburi     12.83     102.17     79.00        10          30   \n",
       "556        Scalea     39.81      15.80     79.00        34           0   \n",
       "\n",
       "     Wind Speed Country        Date  \n",
       "299        9.17      US  1598736517  \n",
       "300        0.74      ZW  1598736793  \n",
       "311        0.85      BW  1598736797  \n",
       "381        6.87      SY  1598736816  \n",
       "407        3.89      TR  1598736825  \n",
       "456        1.92      TH  1598736840  \n",
       "556        3.60      IT  1598736869  "
      ]
     },
     "execution_count": 117,
     "metadata": {},
     "output_type": "execute_result"
    }
   ],
   "source": [
    "cond_weather_data = weather_data.loc[(weather_data[\"Max Temp\"]>=75) & (weather_data[\"Max Temp\"]<=80) & (weather_data[\"Humidity\"]<50) & (weather_data[\"Wind Speed\"]<10)]\n",
    "cond_weather_data.dropna()"
   ]
  },
  {
   "cell_type": "markdown",
   "metadata": {},
   "source": [
    "### Hotel Map\n",
    "* Store into variable named `hotel_df`.\n",
    "* Add a \"Hotel Name\" column to the DataFrame.\n",
    "* Set parameters to search for hotels with 5000 meters.\n",
    "* Hit the Google Places API for each city's coordinates.\n",
    "* Store the first Hotel result into the DataFrame.\n",
    "* Plot markers on top of the heatmap."
   ]
  },
  {
   "cell_type": "code",
   "execution_count": 118,
   "metadata": {},
   "outputs": [
    {
     "name": "stderr",
     "output_type": "stream",
     "text": [
      "<ipython-input-118-e5c9df9936d8>:2: SettingWithCopyWarning: \n",
      "A value is trying to be set on a copy of a slice from a DataFrame.\n",
      "Try using .loc[row_indexer,col_indexer] = value instead\n",
      "\n",
      "See the caveats in the documentation: https://pandas.pydata.org/pandas-docs/stable/user_guide/indexing.html#returning-a-view-versus-a-copy\n",
      "  hotel_df['Hotel Name'] = \"\"\n"
     ]
    },
    {
     "data": {
      "text/html": [
       "<div>\n",
       "<style scoped>\n",
       "    .dataframe tbody tr th:only-of-type {\n",
       "        vertical-align: middle;\n",
       "    }\n",
       "\n",
       "    .dataframe tbody tr th {\n",
       "        vertical-align: top;\n",
       "    }\n",
       "\n",
       "    .dataframe thead th {\n",
       "        text-align: right;\n",
       "    }\n",
       "</style>\n",
       "<table border=\"1\" class=\"dataframe\">\n",
       "  <thead>\n",
       "    <tr style=\"text-align: right;\">\n",
       "      <th></th>\n",
       "      <th>City</th>\n",
       "      <th>Latitude</th>\n",
       "      <th>Longitude</th>\n",
       "      <th>Max Temp</th>\n",
       "      <th>Humidity</th>\n",
       "      <th>Cloudiness</th>\n",
       "      <th>Wind Speed</th>\n",
       "      <th>Country</th>\n",
       "      <th>Date</th>\n",
       "      <th>Hotel Name</th>\n",
       "    </tr>\n",
       "  </thead>\n",
       "  <tbody>\n",
       "    <tr>\n",
       "      <th>299</th>\n",
       "      <td>Portland</td>\n",
       "      <td>45.52</td>\n",
       "      <td>-122.68</td>\n",
       "      <td>78.01</td>\n",
       "      <td>40</td>\n",
       "      <td>40</td>\n",
       "      <td>9.17</td>\n",
       "      <td>US</td>\n",
       "      <td>1598736517</td>\n",
       "      <td></td>\n",
       "    </tr>\n",
       "    <tr>\n",
       "      <th>300</th>\n",
       "      <td>Beitbridge</td>\n",
       "      <td>-22.22</td>\n",
       "      <td>30.00</td>\n",
       "      <td>79.56</td>\n",
       "      <td>24</td>\n",
       "      <td>82</td>\n",
       "      <td>0.74</td>\n",
       "      <td>ZW</td>\n",
       "      <td>1598736793</td>\n",
       "      <td></td>\n",
       "    </tr>\n",
       "    <tr>\n",
       "      <th>311</th>\n",
       "      <td>Pandamatenga</td>\n",
       "      <td>-18.53</td>\n",
       "      <td>25.63</td>\n",
       "      <td>75.43</td>\n",
       "      <td>35</td>\n",
       "      <td>85</td>\n",
       "      <td>0.85</td>\n",
       "      <td>BW</td>\n",
       "      <td>1598736797</td>\n",
       "      <td></td>\n",
       "    </tr>\n",
       "    <tr>\n",
       "      <th>381</th>\n",
       "      <td>Manbij</td>\n",
       "      <td>36.53</td>\n",
       "      <td>37.95</td>\n",
       "      <td>78.80</td>\n",
       "      <td>36</td>\n",
       "      <td>0</td>\n",
       "      <td>6.87</td>\n",
       "      <td>SY</td>\n",
       "      <td>1598736816</td>\n",
       "      <td></td>\n",
       "    </tr>\n",
       "    <tr>\n",
       "      <th>407</th>\n",
       "      <td>Siirt</td>\n",
       "      <td>37.93</td>\n",
       "      <td>41.94</td>\n",
       "      <td>77.11</td>\n",
       "      <td>20</td>\n",
       "      <td>0</td>\n",
       "      <td>3.89</td>\n",
       "      <td>TR</td>\n",
       "      <td>1598736825</td>\n",
       "      <td></td>\n",
       "    </tr>\n",
       "  </tbody>\n",
       "</table>\n",
       "</div>"
      ],
      "text/plain": [
       "             City  Latitude  Longitude  Max Temp  Humidity  Cloudiness  \\\n",
       "299      Portland     45.52    -122.68     78.01        40          40   \n",
       "300    Beitbridge    -22.22      30.00     79.56        24          82   \n",
       "311  Pandamatenga    -18.53      25.63     75.43        35          85   \n",
       "381        Manbij     36.53      37.95     78.80        36           0   \n",
       "407         Siirt     37.93      41.94     77.11        20           0   \n",
       "\n",
       "     Wind Speed Country        Date Hotel Name  \n",
       "299        9.17      US  1598736517             \n",
       "300        0.74      ZW  1598736793             \n",
       "311        0.85      BW  1598736797             \n",
       "381        6.87      SY  1598736816             \n",
       "407        3.89      TR  1598736825             "
      ]
     },
     "execution_count": 118,
     "metadata": {},
     "output_type": "execute_result"
    }
   ],
   "source": [
    "hotel_df = cond_weather_data\n",
    "hotel_df['Hotel Name'] = \"\"\n",
    "hotel_df.head()"
   ]
  },
  {
   "cell_type": "code",
   "execution_count": 119,
   "metadata": {},
   "outputs": [
    {
     "ename": "TypeError",
     "evalue": "'Response' object is not subscriptable",
     "output_type": "error",
     "traceback": [
      "\u001b[0;31m---------------------------------------------------------------------------\u001b[0m",
      "\u001b[0;31mTypeError\u001b[0m                                 Traceback (most recent call last)",
      "\u001b[0;32m<ipython-input-119-8a2ad3148f8f>\u001b[0m in \u001b[0;36m<module>\u001b[0;34m\u001b[0m\n\u001b[1;32m     14\u001b[0m \u001b[0;34m\u001b[0m\u001b[0m\n\u001b[1;32m     15\u001b[0m \u001b[0;32mtry\u001b[0m\u001b[0;34m:\u001b[0m\u001b[0;34m\u001b[0m\u001b[0;34m\u001b[0m\u001b[0m\n\u001b[0;32m---> 16\u001b[0;31m     \u001b[0mhotel_df\u001b[0m\u001b[0;34m.\u001b[0m\u001b[0mloc\u001b[0m\u001b[0;34m[\u001b[0m\u001b[0mindex\u001b[0m\u001b[0;34m,\u001b[0m \u001b[0;34m\"Hotel Name\"\u001b[0m\u001b[0;34m]\u001b[0m \u001b[0;34m=\u001b[0m \u001b[0mhotel_name\u001b[0m\u001b[0;34m[\u001b[0m\u001b[0;34m\"results\"\u001b[0m\u001b[0;34m]\u001b[0m\u001b[0;34m[\u001b[0m\u001b[0;36m0\u001b[0m\u001b[0;34m]\u001b[0m\u001b[0;34m[\u001b[0m\u001b[0;34m\"name\"\u001b[0m\u001b[0;34m]\u001b[0m\u001b[0;34m\u001b[0m\u001b[0;34m\u001b[0m\u001b[0m\n\u001b[0m\u001b[1;32m     17\u001b[0m \u001b[0;32mexcept\u001b[0m \u001b[0;34m(\u001b[0m\u001b[0mKeyError\u001b[0m\u001b[0;34m,\u001b[0m \u001b[0mIndexError\u001b[0m\u001b[0;34m)\u001b[0m\u001b[0;34m:\u001b[0m\u001b[0;34m\u001b[0m\u001b[0;34m\u001b[0m\u001b[0m\n\u001b[1;32m     18\u001b[0m     \u001b[0mhotel_df\u001b[0m\u001b[0;34m.\u001b[0m\u001b[0mloc\u001b[0m\u001b[0;34m[\u001b[0m\u001b[0mindex\u001b[0m\u001b[0;34m,\u001b[0m \u001b[0;34m'Hotel Name'\u001b[0m\u001b[0;34m]\u001b[0m \u001b[0;34m=\u001b[0m \u001b[0;34m\"NaN\"\u001b[0m\u001b[0;34m\u001b[0m\u001b[0;34m\u001b[0m\u001b[0m\n",
      "\u001b[0;31mTypeError\u001b[0m: 'Response' object is not subscriptable"
     ]
    }
   ],
   "source": [
    "for index, row in hotel_df.iterrows():\n",
    "    lat = row[\"Latitude\"]\n",
    "    lng = row[\"Longitude\"]\n",
    "  \n",
    "    target_type = \"hotel\"\n",
    "    radius = 5000\n",
    "    \n",
    "    params[\"location\"] = f\"{lat},{lng}\"\n",
    "                             \n",
    "base_url = \"https://maps.googleapis.com/maps/api/place/nearbysearch/json\"\n",
    "    \n",
    "hotel_name = requests.get(base_url, params=params)\n",
    "\n",
    "    \n",
    "try:\n",
    "    hotel_df.loc[index, \"Hotel Name\"] = hotel_name[\"results\"][0][\"name\"]\n",
    "except (KeyError, IndexError):\n",
    "    hotel_df.loc[index, 'Hotel Name'] = \"NaN\"\n",
    "hotel_df"
   ]
  },
  {
   "cell_type": "code",
   "execution_count": 84,
   "metadata": {},
   "outputs": [],
   "source": [
    "# NOTE: Do not change any of the code in this cell\n",
    "\n",
    "# Using the template add the hotel marks to the heatmap\n",
    "info_box_template = \"\"\"\n",
    "<dl>\n",
    "<dt>Name</dt><dd>{Hotel Name}</dd>\n",
    "<dt>City</dt><dd>{City}</dd>\n",
    "<dt>Country</dt><dd>{Country}</dd>\n",
    "</dl>\n",
    "\"\"\"\n",
    "# Store the DataFrame Row\n",
    "# NOTE: be sure to update with your DataFrame name\n",
    "hotel_info = [info_box_template.format(**row) for index, row in hotel_df.iterrows()]\n",
    "locations = hotel_df[[\"Latitude\", \"Longitude\"]]"
   ]
  },
  {
   "cell_type": "code",
   "execution_count": 105,
   "metadata": {
    "scrolled": true
   },
   "outputs": [
    {
     "ename": "TypeError",
     "evalue": "'method' object is not iterable",
     "output_type": "error",
     "traceback": [
      "\u001b[0;31m---------------------------------------------------------------------------\u001b[0m",
      "\u001b[0;31mTypeError\u001b[0m                                 Traceback (most recent call last)",
      "\u001b[0;32m<ipython-input-105-af0bb7463a5f>\u001b[0m in \u001b[0;36m<module>\u001b[0;34m\u001b[0m\n\u001b[1;32m      7\u001b[0m \u001b[0mfig\u001b[0m \u001b[0;34m=\u001b[0m \u001b[0mgmaps\u001b[0m\u001b[0;34m.\u001b[0m\u001b[0mfigure\u001b[0m\u001b[0;34m(\u001b[0m\u001b[0;34m)\u001b[0m\u001b[0;34m\u001b[0m\u001b[0;34m\u001b[0m\u001b[0m\n\u001b[1;32m      8\u001b[0m markers = gmaps.marker_layer(marker_locations,\n\u001b[0;32m----> 9\u001b[0;31m     hotel_df=[f\"Hotel Name: {hotel_df.loc[index,'Hotel Name']}\" for index,row in hotel_df.iterrows])\n\u001b[0m\u001b[1;32m     10\u001b[0m \u001b[0mfig\u001b[0m\u001b[0;34m.\u001b[0m\u001b[0madd_layer\u001b[0m\u001b[0;34m(\u001b[0m\u001b[0mmarkers\u001b[0m\u001b[0;34m)\u001b[0m\u001b[0;34m\u001b[0m\u001b[0;34m\u001b[0m\u001b[0m\n\u001b[1;32m     11\u001b[0m \u001b[0;31m# Display figure\u001b[0m\u001b[0;34m\u001b[0m\u001b[0;34m\u001b[0m\u001b[0;34m\u001b[0m\u001b[0m\n",
      "\u001b[0;31mTypeError\u001b[0m: 'method' object is not iterable"
     ]
    }
   ],
   "source": [
    "# Add marker layer ontop of heat map\n",
    "#https://jupyter-gmaps.readthedocs.io/en/v0.3.4/gmaps.html\n",
    "# Create a map using state centroid coordinates to set markers\n",
    "marker_locations = hotel_df[['Hotel Name']]\n",
    "\n",
    "# Create a marker_layer using the poverty list to fill the info box <-- census assignment\n",
    "fig = gmaps.figure()\n",
    "markers = gmaps.marker_layer(marker_locations,\n",
    "    hotel_df=[f\"Hotel Name: {hotel_df.loc[index,'Hotel Name']}\" for index,row in hotel_df.iterrows])\n",
    "fig.add_layer(markers)\n",
    "# Display figure\n",
    "fig"
   ]
  },
  {
   "cell_type": "code",
   "execution_count": null,
   "metadata": {},
   "outputs": [],
   "source": []
  }
 ],
 "metadata": {
  "kernelspec": {
   "display_name": "Python 3",
   "language": "python",
   "name": "python3"
  },
  "language_info": {
   "codemirror_mode": {
    "name": "ipython",
    "version": 3
   },
   "file_extension": ".py",
   "mimetype": "text/x-python",
   "name": "python",
   "nbconvert_exporter": "python",
   "pygments_lexer": "ipython3",
   "version": "3.8.3"
  },
  "latex_envs": {
   "LaTeX_envs_menu_present": true,
   "autoclose": false,
   "autocomplete": true,
   "bibliofile": "biblio.bib",
   "cite_by": "apalike",
   "current_citInitial": 1,
   "eqLabelWithNumbers": true,
   "eqNumInitial": 1,
   "hotkeys": {
    "equation": "Ctrl-E",
    "itemize": "Ctrl-I"
   },
   "labels_anchors": false,
   "latex_user_defs": false,
   "report_style_numbering": false,
   "user_envs_cfg": false
  },
  "toc": {
   "base_numbering": 1,
   "nav_menu": {},
   "number_sections": true,
   "sideBar": true,
   "skip_h1_title": false,
   "title_cell": "Table of Contents",
   "title_sidebar": "Contents",
   "toc_cell": false,
   "toc_position": {},
   "toc_section_display": true,
   "toc_window_display": false
  },
  "varInspector": {
   "cols": {
    "lenName": 16,
    "lenType": 16,
    "lenVar": 40
   },
   "kernels_config": {
    "python": {
     "delete_cmd_postfix": "",
     "delete_cmd_prefix": "del ",
     "library": "var_list.py",
     "varRefreshCmd": "print(var_dic_list())"
    },
    "r": {
     "delete_cmd_postfix": ") ",
     "delete_cmd_prefix": "rm(",
     "library": "var_list.r",
     "varRefreshCmd": "cat(var_dic_list()) "
    }
   },
   "types_to_exclude": [
    "module",
    "function",
    "builtin_function_or_method",
    "instance",
    "_Feature"
   ],
   "window_display": false
  }
 },
 "nbformat": 4,
 "nbformat_minor": 4
}
