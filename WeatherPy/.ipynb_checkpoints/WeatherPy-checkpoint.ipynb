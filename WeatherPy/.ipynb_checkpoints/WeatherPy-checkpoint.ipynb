{
 "cells": [
  {
   "cell_type": "markdown",
   "metadata": {},
   "source": [
    "# WeatherPy\n",
    "----\n",
    "\n",
    "#### Note\n",
    "* Instructions have been included for each segment. You do not have to follow them exactly, but they are included to help you think through the steps."
   ]
  },
  {
   "cell_type": "code",
   "execution_count": 2,
   "metadata": {
    "scrolled": true
   },
   "outputs": [],
   "source": [
    "# Dependencies and Setup\n",
    "import matplotlib.pyplot as plt\n",
    "import pandas as pd\n",
    "import numpy as np\n",
    "import requests\n",
    "import time\n",
    "from scipy.stats import linregress\n",
    "\n",
    "# Import API key\n",
    "from api_keys import weather_api_key\n",
    "\n",
    "# Incorporated citipy to determine city based on latitude and longitude\n",
    "from citipy import citipy\n",
    "\n",
    "# Output File (CSV)\n",
    "output_data_file = \"output_data/cities.csv\"\n",
    "\n",
    "# Range of latitudes and longitudes\n",
    "lat_range = (-90, 90)\n",
    "lng_range = (-180, 180)"
   ]
  },
  {
   "cell_type": "markdown",
   "metadata": {},
   "source": [
    "## Generate Cities List"
   ]
  },
  {
   "cell_type": "code",
   "execution_count": 3,
   "metadata": {},
   "outputs": [
    {
     "data": {
      "text/plain": [
       "637"
      ]
     },
     "execution_count": 3,
     "metadata": {},
     "output_type": "execute_result"
    }
   ],
   "source": [
    " # List for holding lat_lngs and cities\n",
    "lat_lngs = []\n",
    "cities = []\n",
    "\n",
    "# Create a set of random lat and lng combinations\n",
    "lats = np.random.uniform(low=-90.000, high=90.000, size=1500)\n",
    "lngs = np.random.uniform(low=-180.000, high=180.000, size=1500)\n",
    "lat_lngs = zip(lats, lngs)\n",
    "\n",
    "# Identify nearest city for each lat, lng combination\n",
    "for lat_lng in lat_lngs:\n",
    "    city = citipy.nearest_city(lat_lng[0], lat_lng[1]).city_name\n",
    "    \n",
    "    # If the city is unique, then add it to a our cities list\n",
    "    if city not in cities:\n",
    "        cities.append(city)\n",
    "\n",
    "# Print the city count to confirm sufficient count\n",
    "len(cities)"
   ]
  },
  {
   "cell_type": "markdown",
   "metadata": {},
   "source": [
    "### Perform API Calls\n",
    "* Perform a weather check on each city using a series of successive API calls.\n",
    "* Include a print log of each city as it'sbeing processed (with the city number and city name).\n"
   ]
  },
  {
   "cell_type": "code",
   "execution_count": 4,
   "metadata": {
    "scrolled": true
   },
   "outputs": [
    {
     "data": {
      "text/plain": [
       "{'cod': '404', 'message': 'city not found'}"
      ]
     },
     "execution_count": 4,
     "metadata": {},
     "output_type": "execute_result"
    }
   ],
   "source": [
    "url = \"http://api.openweathermap.org/data/2.5/weather?units=Imperial&\"\n",
    "tempunits = \"imperial\"\n",
    "query_url = url + \"appid=\" + weather_api_key + \"&q=\" + city\n",
    "weather_response = requests.get(query_url)\n",
    "weather_json = weather_response.json()\n",
    "weather_json"
   ]
  },
  {
   "cell_type": "code",
   "execution_count": 5,
   "metadata": {},
   "outputs": [],
   "source": [
    "#weather_json['name']\n",
    "#weather_json['sys']['country']\n",
    "#weather_json['main']['humidity']"
   ]
  },
  {
   "cell_type": "code",
   "execution_count": 6,
   "metadata": {},
   "outputs": [
    {
     "data": {
      "text/plain": [
       "'http://api.openweathermap.org/data/2.5/weather?units=Imperial&appid=e1067d92d6b631a16363bf4db3023b19&q='"
      ]
     },
     "execution_count": 6,
     "metadata": {},
     "output_type": "execute_result"
    }
   ],
   "source": [
    "query_url2 = url + \"appid=\" + weather_api_key + \"&q=\"\n",
    "query_url2"
   ]
  },
  {
   "cell_type": "code",
   "execution_count": 7,
   "metadata": {},
   "outputs": [
    {
     "name": "stdout",
     "output_type": "stream",
     "text": [
      "Beginning Data Retrieval\n",
      "-------------------------\n",
      "Processing record 1 | Kakonko\n",
      "Processing record 2 | Leningradskiy\n",
      "Processing record 3 | Presidencia Roque Sáenz Peña\n",
      "Processing record 4 | Rikitea\n",
      "Processing record 5 | Camacha\n",
      "Processing record 6 | Prescott\n",
      "Processing record 7 | Dali\n",
      "Processing record 8 | Hermanus\n",
      "Processing record 9 | Kaspiysk\n",
      "Processing record 10 | Padang\n",
      "Processing record 11 | Arraial do Cabo\n",
      "Processing record 12 | Airai\n",
      "Processing record 13 | Hofn\n",
      "Processing record 14 | Maningrida\n",
      "City not found. Skipping...\n",
      "Processing record 15 | Mossamedes\n",
      "City not found. Skipping...\n",
      "Processing record 16 | Hasaki\n",
      "Processing record 17 | Sayyan\n",
      "Processing record 18 | Saint-Philippe\n",
      "Processing record 19 | Auki\n",
      "Processing record 20 | Bethel\n",
      "Processing record 21 | Te Anau\n",
      "Processing record 22 | Hobart\n",
      "Processing record 23 | Punta Arenas\n",
      "Processing record 24 | Buraidah\n",
      "Processing record 25 | Mount Isa\n",
      "Processing record 26 | Mataura\n",
      "Processing record 27 | Asău\n",
      "Processing record 28 | Bartlesville\n",
      "Processing record 29 | Tiruchchendur\n",
      "Processing record 30 | Avarua\n",
      "Processing record 31 | Busselton\n",
      "City not found. Skipping...\n",
      "Processing record 32 | Port Elizabeth\n",
      "Processing record 33 | Yellowknife\n",
      "Processing record 34 | Tomatlán\n",
      "Processing record 35 | Longyearbyen\n",
      "Processing record 36 | Avera\n",
      "Processing record 37 | Selty\n",
      "Processing record 38 | Nelson Bay\n",
      "Processing record 39 | Butaritari\n",
      "Processing record 40 | Port Blair\n",
      "Processing record 41 | Hambantota\n",
      "Processing record 42 | Jamestown\n",
      "Processing record 43 | Necochea\n",
      "Processing record 44 | Bluff\n",
      "Processing record 45 | Sechura\n",
      "Processing record 46 | Tuy Hoa\n",
      "Processing record 47 | Cape Town\n",
      "Processing record 48 | Barrow\n",
      "Processing record 49 | Castro\n",
      "Processing record 50 | Sinegor'ye\n",
      "Processing record 51 | Vaini\n",
      "Processing record 52 | Pawāyan\n",
      "Processing record 53 | Znamenskoye\n",
      "Processing record 54 | Tiksi\n",
      "Processing record 55 | Srednekolymsk\n",
      "Processing record 56 | Naze\n",
      "Processing record 57 | Mar del Plata\n",
      "Processing record 58 | Dikson\n",
      "City not found. Skipping...\n",
      "Processing record 59 | Clyde River\n",
      "Processing record 60 | San Patricio\n",
      "Processing record 61 | Boca do Acre\n",
      "Processing record 62 | Caçu\n",
      "Processing record 63 | Emba\n",
      "Processing record 64 | Gayéri\n",
      "Processing record 65 | Saskylakh\n",
      "Processing record 66 | Pevek\n",
      "Processing record 67 | Dunedin\n",
      "Processing record 68 | Kapaa\n",
      "Processing record 69 | Faanui\n",
      "Processing record 70 | Albany\n",
      "Processing record 71 | Mount Gambier\n",
      "Processing record 72 | Alofi\n",
      "City not found. Skipping...\n",
      "Processing record 73 | Māgadi\n",
      "City not found. Skipping...\n",
      "Processing record 74 | Aasiaat\n",
      "Processing record 75 | Gambo\n",
      "Processing record 76 | Ribeira Grande\n",
      "Processing record 77 | Hohhot\n",
      "Processing record 78 | Matamoros\n",
      "City not found. Skipping...\n",
      "Processing record 79 | Helong\n",
      "Processing record 80 | Weligama\n",
      "City not found. Skipping...\n",
      "Processing record 81 | Sobolevo\n",
      "Processing record 82 | Reconquista\n",
      "Processing record 83 | New Norfolk\n",
      "Processing record 84 | São Filipe\n",
      "Processing record 85 | Cap Malheureux\n",
      "Processing record 86 | Remanso\n",
      "Processing record 87 | Severo-Kuril'sk\n",
      "Processing record 88 | Diu\n",
      "Processing record 89 | Saint Paul Harbor\n",
      "Processing record 90 | San Pedro de Ycuamandiyú\n",
      "Processing record 91 | Port Alfred\n",
      "Processing record 92 | Nha Trang\n",
      "Processing record 93 | Nurma\n",
      "Processing record 94 | Atuona\n",
      "Processing record 95 | Bayevo\n",
      "Processing record 96 | Tigil'\n",
      "Processing record 97 | Capreol\n",
      "City not found. Skipping...\n",
      "Processing record 98 | Batagay\n",
      "Processing record 99 | Kieta\n",
      "Processing record 100 | Mayo\n",
      "Processing record 101 | Shimoda\n",
      "Processing record 102 | Khatanga\n",
      "Processing record 103 | Namatanai\n",
      "Processing record 104 | Itarema\n",
      "City not found. Skipping...\n",
      "Processing record 105 | Puerto Ayora\n",
      "Processing record 106 | Uralets\n",
      "Processing record 107 | Hamilton\n",
      "Processing record 108 | Warrington\n",
      "Processing record 109 | Ushuaia\n",
      "City not found. Skipping...\n",
      "Processing record 110 | Marzuq\n",
      "Processing record 111 | Gamba\n",
      "Processing record 112 | Thompson\n",
      "Processing record 113 | Saldanha\n",
      "Processing record 114 | San Policarpo\n",
      "Processing record 115 | Lively\n",
      "Processing record 116 | Ponta do Sol\n",
      "Processing record 117 | Morro Bay\n",
      "Processing record 118 | Qaanaaq\n",
      "Processing record 119 | East London\n",
      "Processing record 120 | Yatou\n",
      "Processing record 121 | Zliten\n",
      "Processing record 122 | Provideniya\n",
      "City not found. Skipping...\n",
      "Processing record 123 | Pacific Grove\n",
      "Processing record 124 | Tawang Town\n",
      "City not found. Skipping...\n",
      "Processing record 125 | Dwārka\n",
      "Processing record 126 | Morehead\n",
      "Processing record 127 | Ilulissat\n",
      "Processing record 128 | Colares\n",
      "Processing record 129 | Wanning\n",
      "Processing record 130 | Pontianak\n",
      "Processing record 131 | Upernavik\n",
      "Processing record 132 | Konstantinovskoye\n",
      "Processing record 133 | Cabo San Lucas\n",
      "Processing record 134 | Rosarito\n",
      "Processing record 135 | Nikolskoye\n",
      "Processing record 136 | Batemans Bay\n",
      "Processing record 137 | Pervomayskoye\n",
      "Processing record 138 | Chicama\n",
      "Processing record 139 | Mahébourg\n",
      "Processing record 140 | Bredasdorp\n",
      "City not found. Skipping...\n",
      "Processing record 141 | Batticaloa\n",
      "Processing record 142 | Chazuta\n",
      "City not found. Skipping...\n",
      "Processing record 143 | Tura\n",
      "Processing record 144 | Khovd\n",
      "Processing record 145 | Sinnamary\n",
      "City not found. Skipping...\n",
      "Processing record 146 | Choya\n",
      "City not found. Skipping...\n",
      "Processing record 147 | Bambous Virieux\n",
      "Processing record 148 | Honningsvåg\n",
      "Processing record 149 | Inuvik\n",
      "City not found. Skipping...\n",
      "City not found. Skipping...\n",
      "Processing record 150 | Isangel\n",
      "Processing record 151 | Cidreira\n",
      "Processing record 152 | Lagoa\n",
      "City not found. Skipping...\n",
      "Processing record 153 | Nizhniy Odes\n",
      "Processing record 154 | Gold Coast\n",
      "City not found. Skipping...\n",
      "Processing record 155 | Goderich\n",
      "Processing record 156 | Elliot\n",
      "Processing record 157 | Sada\n",
      "Processing record 158 | Hay River\n",
      "City not found. Skipping...\n",
      "Processing record 159 | Hamada\n",
      "Processing record 160 | Yulara\n",
      "Processing record 161 | Domoni\n",
      "Processing record 162 | Lofthus\n",
      "Processing record 163 | Kloulklubed\n",
      "City not found. Skipping...\n",
      "Processing record 164 | Vadsø\n",
      "Processing record 165 | Broome\n",
      "Processing record 166 | Nome\n",
      "Processing record 167 | Oranjestad\n",
      "Processing record 168 | Tovste\n",
      "Processing record 169 | Souillac\n",
      "Processing record 170 | Kruisfontein\n",
      "Processing record 171 | Srandakan\n",
      "Processing record 172 | Bengkulu\n",
      "Processing record 173 | Kaitangata\n",
      "Processing record 174 | Otradnoye\n",
      "Processing record 175 | Tsimmerbude\n",
      "Processing record 176 | Codrington\n",
      "Processing record 177 | Kaeo\n",
      "Processing record 178 | Borşa\n",
      "Processing record 179 | Esperance\n",
      "City not found. Skipping...\n",
      "City not found. Skipping...\n",
      "Processing record 180 | Troitsko-Pechorsk\n",
      "Processing record 181 | Tasiilaq\n",
      "Processing record 182 | Pontes e Lacerda\n",
      "Processing record 183 | Vestmanna\n",
      "Processing record 184 | Ouésso\n",
      "Processing record 185 | Kavieng\n",
      "Processing record 186 | Burē\n",
      "Processing record 187 | Dolores\n",
      "Processing record 188 | Saint-François\n",
      "Processing record 189 | Ust'-Uda\n",
      "Processing record 190 | Wukari\n",
      "Processing record 191 | Hilo\n",
      "Processing record 192 | Phuthaditjhaba\n",
      "Processing record 193 | Kaset Sombun\n",
      "City not found. Skipping...\n",
      "Processing record 194 | Samarai\n",
      "Processing record 195 | Finschhafen\n",
      "Processing record 196 | Poum\n",
      "City not found. Skipping...\n",
      "Processing record 197 | Eyrarbakki\n",
      "City not found. Skipping...\n",
      "Processing record 198 | Vila Franca do Campo\n",
      "Processing record 199 | Meulaboh\n",
      "Processing record 200 | Sharjah city\n",
      "Processing record 201 | Popondetta\n",
      "Processing record 202 | Dodoma\n",
      "Processing record 203 | Pisco\n",
      "Processing record 204 | Broken Hill\n",
      "Processing record 205 | Yuli\n",
      "Processing record 206 | Quelimane\n",
      "Processing record 207 | Deputatsky\n",
      "Processing record 208 | Russell\n",
      "Processing record 209 | Moerai\n",
      "Processing record 210 | Lorengau\n",
      "Processing record 211 | Zhangye\n",
      "Processing record 212 | Sur\n",
      "Processing record 213 | Hithadhoo\n",
      "Processing record 214 | Norman Wells\n",
      "Processing record 215 | Ibrā’\n",
      "Processing record 216 | Plainfield\n",
      "City not found. Skipping...\n",
      "Processing record 217 | Tuktoyaktuk\n",
      "Processing record 218 | Half Moon Bay\n",
      "Processing record 219 | Pitimbu\n",
      "Processing record 220 | Umluj\n",
      "Processing record 221 | Assiniboia\n",
      "Processing record 222 | Sayansk\n"
     ]
    },
    {
     "name": "stdout",
     "output_type": "stream",
     "text": [
      "Processing record 223 | Dingle\n",
      "Processing record 224 | Canarana\n",
      "Processing record 225 | Aitape\n",
      "Processing record 226 | Kuching\n",
      "Processing record 227 | Oudtshoorn\n",
      "City not found. Skipping...\n",
      "Processing record 228 | Lompoc\n",
      "Processing record 229 | Tiznit Province\n",
      "Processing record 230 | George Town\n",
      "Processing record 231 | Pilar\n",
      "City not found. Skipping...\n",
      "Processing record 232 | Santa Fe\n",
      "Processing record 233 | Coahuayana Viejo\n",
      "Processing record 234 | São Paulo de Olivença\n",
      "Processing record 235 | Conceição do Araguaia\n",
      "Processing record 236 | Bilma\n",
      "Processing record 237 | Yumen\n",
      "Processing record 238 | Lincoln\n",
      "Processing record 239 | Karaton\n",
      "Processing record 240 | Balikpapan\n",
      "Processing record 241 | Bowen\n",
      "Processing record 242 | Waddān\n",
      "Processing record 243 | Ahipara\n",
      "Processing record 244 | Tumbes\n",
      "Processing record 245 | Novaya Bryan’\n",
      "Processing record 246 | Grand Gaube\n",
      "Processing record 247 | Laguna\n",
      "City not found. Skipping...\n",
      "Processing record 248 | Ulaangom\n",
      "Processing record 249 | Qasigiannguit\n",
      "Processing record 250 | Kavaratti\n",
      "Processing record 251 | Vallenar\n",
      "Processing record 252 | Patao\n",
      "City not found. Skipping...\n",
      "City not found. Skipping...\n",
      "Processing record 253 | Katsuura\n",
      "Processing record 254 | Pringsewu\n",
      "Processing record 255 | Chokurdakh\n",
      "City not found. Skipping...\n",
      "Processing record 256 | Plettenberg Bay\n",
      "Processing record 257 | Zhuhai\n",
      "Processing record 258 | Saint George\n",
      "Processing record 259 | Xapuri\n",
      "Processing record 260 | Sangar\n",
      "Processing record 261 | Sibolga\n",
      "Processing record 262 | Nur\n",
      "Processing record 263 | Sydney\n",
      "Processing record 264 | Hua Hin\n",
      "Processing record 265 | Baidyabati\n",
      "Processing record 266 | Petropavlovsk-Kamchatskiy\n",
      "Processing record 267 | Shīeli\n",
      "Processing record 268 | Caraquet\n",
      "Processing record 269 | Coquimbo\n",
      "Processing record 270 | Muttupet\n",
      "Processing record 271 | Sikonge\n",
      "Processing record 272 | Burnie\n",
      "Processing record 273 | Coyhaique\n",
      "City not found. Skipping...\n",
      "Processing record 274 | Fortuna\n",
      "Processing record 275 | Muros\n",
      "Processing record 276 | Mudanya\n",
      "Processing record 277 | Verkhnyaya Inta\n",
      "Processing record 278 | Prince Rupert\n",
      "Processing record 279 | Malārd\n",
      "Processing record 280 | Nanortalik\n",
      "Processing record 281 | Praia\n",
      "Processing record 282 | Bodaybo\n",
      "Processing record 283 | Santa Vitória\n",
      "Processing record 284 | Abéché\n",
      "Processing record 285 | Burns Lake\n",
      "Processing record 286 | Saravena\n",
      "Processing record 287 | Barkhan\n",
      "Processing record 288 | Urzhum\n",
      "Processing record 289 | Santa Rosa\n",
      "Processing record 290 | Gusev\n",
      "Processing record 291 | Lebu\n",
      "Processing record 292 | Dandong\n",
      "Processing record 293 | Semnan\n",
      "Processing record 294 | São Félix do Xingu\n",
      "Processing record 295 | Vilhena\n",
      "Processing record 296 | Brae\n",
      "Processing record 297 | Tenkodogo\n",
      "Processing record 298 | Qaryat Sulūq\n",
      "Processing record 299 | Kiama\n",
      "Processing record 300 | Portland\n",
      "Processing record 301 | Beitbridge\n",
      "Processing record 302 | Hong Kong\n",
      "City not found. Skipping...\n",
      "Processing record 303 | Havre-St-Pierre\n",
      "Processing record 304 | Kahului\n",
      "Processing record 305 | Gunnedah\n",
      "Processing record 306 | Kidal\n",
      "Processing record 307 | Xam Nua\n",
      "Processing record 308 | Oranjemund\n",
      "Processing record 309 | La Ronge\n",
      "City not found. Skipping...\n",
      "Processing record 310 | Santa Cruz de la Sierra\n",
      "Processing record 311 | High Level\n",
      "Processing record 312 | Pandamatenga\n",
      "City not found. Skipping...\n",
      "Processing record 313 | Jasper\n",
      "Processing record 314 | Vardø\n",
      "Processing record 315 | West Bay\n",
      "Processing record 316 | Tamworth\n",
      "Processing record 317 | Nouakchott\n",
      "Processing record 318 | Prince Albert\n",
      "Processing record 319 | Poya\n",
      "Processing record 320 | Guerrero Negro\n",
      "Processing record 321 | Baykit\n",
      "Processing record 322 | Usinsk\n",
      "Processing record 323 | Hammerfest\n",
      "Processing record 324 | Châteauroux\n",
      "Processing record 325 | Saint Lawrence\n",
      "Processing record 326 | Westport\n",
      "Processing record 327 | Egvekinot\n",
      "Processing record 328 | Trud\n",
      "Processing record 329 | Wanaka\n",
      "Processing record 330 | Caucaia\n",
      "Processing record 331 | Enid\n",
      "Processing record 332 | Goose Creek\n",
      "Processing record 333 | Zyryanovsk\n",
      "Processing record 334 | Filingué\n",
      "Processing record 335 | Bathsheba\n",
      "Processing record 336 | Rūdbār\n",
      "Processing record 337 | Kokkola\n",
      "Processing record 338 | Carnarvon\n",
      "City not found. Skipping...\n",
      "Processing record 339 | Tessalit\n",
      "Processing record 340 | San Borja\n",
      "Processing record 341 | Pangnirtung\n",
      "Processing record 342 | Nizhnevartovsk\n",
      "Processing record 343 | Mafra\n",
      "Processing record 344 | Iquitos\n",
      "Processing record 345 | Saint-Pierre\n",
      "Processing record 346 | El Dorado\n",
      "Processing record 347 | Penha\n",
      "Processing record 348 | Dembī Dolo\n",
      "City not found. Skipping...\n",
      "City not found. Skipping...\n",
      "Processing record 349 | Aklavik\n",
      "City not found. Skipping...\n",
      "Processing record 350 | Ellisras\n",
      "Processing record 351 | Tancanhuitz\n",
      "Processing record 352 | Ontario\n",
      "Processing record 353 | Bonavista\n",
      "Processing record 354 | Naranjal\n",
      "City not found. Skipping...\n",
      "Processing record 355 | Zaysan\n",
      "Processing record 356 | Yanam\n",
      "Processing record 357 | Comodoro Rivadavia\n",
      "Processing record 358 | Rognan\n",
      "Processing record 359 | Torbay\n",
      "City not found. Skipping...\n",
      "Processing record 360 | Mojo\n",
      "Processing record 361 | Porbandar\n",
      "Processing record 362 | Khakhea\n",
      "Processing record 363 | Brežice\n",
      "Processing record 364 | Ancud\n",
      "Processing record 365 | Neuquén\n",
      "Processing record 366 | Vostok\n",
      "Processing record 367 | Cherskiy\n",
      "Processing record 368 | Mackay\n",
      "Processing record 369 | Kenai\n",
      "Processing record 370 | Parchim\n",
      "Processing record 371 | Ekhabi\n",
      "Processing record 372 | Adrar\n",
      "Processing record 373 | Maceió\n",
      "Processing record 374 | Beloha\n",
      "Processing record 375 | Anáhuac\n",
      "Processing record 376 | Wick\n",
      "Processing record 377 | Sola\n",
      "Processing record 378 | Bukachacha\n",
      "Processing record 379 | Henties Bay\n",
      "Processing record 380 | Sabha\n",
      "Processing record 381 | Marsh Harbour\n",
      "Processing record 382 | Manbij\n",
      "Processing record 383 | Sosnovo-Ozerskoye\n",
      "Processing record 384 | Ternate\n",
      "Processing record 385 | Roald\n",
      "Processing record 386 | Carbonia\n",
      "Processing record 387 | Waingapu\n",
      "Processing record 388 | Sorong\n",
      "Processing record 389 | Ipixuna\n",
      "Processing record 390 | Kansanshi\n",
      "Processing record 391 | Ghanzi\n",
      "Processing record 392 | Dejen\n",
      "Processing record 393 | Rocha\n",
      "Processing record 394 | Faya\n",
      "Processing record 395 | Körmend\n",
      "Processing record 396 | Talnakh\n",
      "Processing record 397 | Antipovka\n",
      "Processing record 398 | Sakakah\n",
      "Processing record 399 | Caohe\n",
      "Processing record 400 | Dunstable\n",
      "City not found. Skipping...\n",
      "Processing record 401 | Emporia\n",
      "Processing record 402 | Jumla\n",
      "Processing record 403 | Anzio\n",
      "Processing record 404 | Ust-Kuyga\n",
      "Processing record 405 | Ahome\n",
      "Processing record 406 | Sioux Lookout\n",
      "Processing record 407 | Kwinana\n",
      "Processing record 408 | Siirt\n",
      "Processing record 409 | Rio Grande\n",
      "Processing record 410 | Moju\n",
      "Processing record 411 | Novodugino\n",
      "Processing record 412 | Viadana\n",
      "Processing record 413 | Mehamn\n",
      "Processing record 414 | Haines Junction\n",
      "Processing record 415 | Omboué\n",
      "Processing record 416 | Badvel\n",
      "Processing record 417 | Verkhoyansk\n",
      "Processing record 418 | Sovetskaya Gavan'\n",
      "Processing record 419 | Richards Bay\n",
      "City not found. Skipping...\n",
      "Processing record 420 | Torbat-e Jām\n",
      "Processing record 421 | Knysna\n",
      "Processing record 422 | Dhidhdhoo\n",
      "City not found. Skipping...\n",
      "Processing record 423 | Imbituba\n",
      "Processing record 424 | Mae Sai\n",
      "Processing record 425 | Sørland\n",
      "Processing record 426 | Vao\n",
      "Processing record 427 | Lüderitz\n",
      "Processing record 428 | Yamandu\n",
      "Processing record 429 | Kumul\n",
      "Processing record 430 | Turaif\n",
      "Processing record 431 | Nantucket\n",
      "Processing record 432 | El Reno\n",
      "Processing record 433 | Menongue\n",
      "Processing record 434 | Iqaluit\n",
      "Processing record 435 | Bambanglipuro\n",
      "Processing record 436 | Ridgecrest\n",
      "Processing record 437 | Riyadh\n",
      "Processing record 438 | Beringovskiy\n",
      "Processing record 439 | Tongchuanshi\n",
      "Processing record 440 | Buchanan\n",
      "Processing record 441 | Narsaq\n",
      "Processing record 442 | Udomlya\n",
      "Processing record 443 | Brownsville\n",
      "Processing record 444 | Praia da Vitória\n",
      "Processing record 445 | Moranbah\n",
      "Processing record 446 | Caravelas\n",
      "Processing record 447 | Nuuk\n",
      "Processing record 448 | Abapó\n",
      "Processing record 449 | Hue\n",
      "Processing record 450 | College\n",
      "Processing record 451 | Kyren\n",
      "Processing record 452 | Arrondissement de Lannion\n"
     ]
    },
    {
     "name": "stdout",
     "output_type": "stream",
     "text": [
      "Processing record 453 | Klaksvík\n",
      "Processing record 454 | Nakasongola\n",
      "Processing record 455 | Shetpe\n",
      "Processing record 456 | Seymchan\n",
      "City not found. Skipping...\n",
      "Processing record 457 | Chanthaburi\n",
      "Processing record 458 | Chara\n",
      "Processing record 459 | Lagan\n",
      "Processing record 460 | Corat\n",
      "Processing record 461 | Cooma\n",
      "City not found. Skipping...\n",
      "Processing record 462 | Inza\n",
      "City not found. Skipping...\n",
      "Processing record 463 | Ugoofaaru\n",
      "Processing record 464 | Lerwick\n",
      "Processing record 465 | Arlit\n",
      "Processing record 466 | Banjar\n",
      "Processing record 467 | Darnah\n",
      "Processing record 468 | Port Hardy\n",
      "Processing record 469 | Bay Roberts\n",
      "Processing record 470 | Novhorodka\n",
      "Processing record 471 | Mingshui\n",
      "Processing record 472 | Yaring\n",
      "Processing record 473 | Dubbo\n",
      "Processing record 474 | Acapulco de Juárez\n",
      "Processing record 475 | Watertown\n",
      "City not found. Skipping...\n",
      "Processing record 476 | Chimbarongo\n",
      "Processing record 477 | Viedma\n",
      "City not found. Skipping...\n",
      "Processing record 478 | Innisfail\n",
      "City not found. Skipping...\n",
      "Processing record 479 | Port Lincoln\n",
      "Processing record 480 | Kuril'sk\n",
      "Processing record 481 | Umm Kaddadah\n",
      "Processing record 482 | Bodø\n",
      "Processing record 483 | Freeport\n",
      "Processing record 484 | Daru\n",
      "City not found. Skipping...\n",
      "Processing record 485 | ‘Āhuimanu\n",
      "Processing record 486 | Lábrea\n",
      "Processing record 487 | Kyzyl\n",
      "Processing record 488 | North Platte\n",
      "Processing record 489 | Palana\n",
      "Processing record 490 | Grand-Santi\n",
      "Processing record 491 | Ponta Delgada\n",
      "Processing record 492 | Araouane\n",
      "Processing record 493 | Oromocto\n",
      "Processing record 494 | Caucayá\n",
      "Processing record 495 | Qian’an\n",
      "Processing record 496 | Jining\n",
      "Processing record 497 | Puerto Escondido\n",
      "Processing record 498 | Okhotsk\n",
      "Processing record 499 | Rosita\n",
      "Processing record 500 | Kirakira\n",
      "Processing record 501 | Belaya Gora\n",
      "Processing record 502 | Grindavik\n",
      "City not found. Skipping...\n",
      "Processing record 503 | Sawākin\n",
      "City not found. Skipping...\n",
      "Processing record 504 | Marrakesh\n",
      "Processing record 505 | Karasjok\n",
      "Processing record 506 | Neiafu\n",
      "Processing record 507 | Fayetteville\n",
      "City not found. Skipping...\n",
      "City not found. Skipping...\n",
      "Processing record 508 | Karratha\n",
      "Processing record 509 | Smithers\n",
      "Processing record 510 | Merauke\n",
      "Processing record 511 | San Fernando del Valle de Catamarca\n",
      "Processing record 512 | Campo Grande\n",
      "Processing record 513 | Kudahuvadhoo\n",
      "City not found. Skipping...\n",
      "Processing record 514 | Yerbogachën\n",
      "Processing record 515 | Palmela\n",
      "Processing record 516 | Province of Mantua\n",
      "Processing record 517 | Moose Jaw\n",
      "Processing record 518 | Niquero\n",
      "Processing record 519 | Sapozhok\n",
      "Processing record 520 | Verāval\n",
      "Processing record 521 | Superior\n",
      "Processing record 522 | Lata\n",
      "City not found. Skipping...\n",
      "Processing record 523 | Kindu\n",
      "Processing record 524 | Miracema do Tocantins\n",
      "Processing record 525 | Mushie\n",
      "Processing record 526 | Seminole\n",
      "Processing record 527 | Izumo\n",
      "Processing record 528 | Port-Cartier\n",
      "Processing record 529 | Kilindoni\n",
      "Processing record 530 | Alice Springs\n",
      "City not found. Skipping...\n",
      "Processing record 531 | Kemijärvi\n",
      "Processing record 532 | Fethiye\n",
      "Processing record 533 | Suba\n",
      "Processing record 534 | Oskaloosa\n",
      "Processing record 535 | Galesong\n",
      "Processing record 536 | San Ignacio\n",
      "Processing record 537 | Santa Maria\n",
      "Processing record 538 | Kupang\n",
      "Processing record 539 | Makar'yev\n",
      "Processing record 540 | San Andrés\n",
      "Processing record 541 | Nyurba\n",
      "Processing record 542 | Opuwo\n",
      "Processing record 543 | Nara\n",
      "Processing record 544 | Barpeta\n",
      "Processing record 545 | Tommot\n",
      "Processing record 546 | Dahuk\n",
      "Processing record 547 | Baruun-Urt\n",
      "City not found. Skipping...\n",
      "Processing record 548 | Olden\n",
      "Processing record 549 | Biak\n",
      "Processing record 550 | Walvis Bay\n",
      "Processing record 551 | Mozarlândia\n",
      "Processing record 552 | Omsukchan\n",
      "Processing record 553 | Sergach\n",
      "Processing record 554 | Lamlash\n",
      "Processing record 555 | Chepareria\n",
      "Processing record 556 | Iwanai\n",
      "Processing record 557 | Scalea\n",
      "Processing record 558 | Chippewa Falls\n",
      "Processing record 559 | Kaoma\n",
      "Processing record 560 | Khanpur\n",
      "Processing record 561 | San Quintín\n",
      "Processing record 562 | Constitución\n",
      "Processing record 563 | Zhangjiakou\n",
      "Processing record 564 | Huarmey\n",
      "Processing record 565 | Camabatela\n",
      "Processing record 566 | Mlonggo\n",
      "Processing record 567 | Porteirinha\n",
      "Processing record 568 | Glendive\n",
      "Processing record 569 | Strelka\n",
      "Processing record 570 | Haicheng\n",
      "Processing record 571 | Oxapampa\n",
      "Processing record 572 | Ardrishaig\n",
      "Processing record 573 | Saint-Augustin\n",
      "Processing record 574 | Madimba\n",
      "-------------------------\n",
      "Data Retrieval Complete\n",
      "-------------------------\n"
     ]
    }
   ],
   "source": [
    "max_temp = []\n",
    "hum = []\n",
    "cloud = []\n",
    "wind_speed = []\n",
    "country = []\n",
    "date = []\n",
    "city_name = []\n",
    "lats = []\n",
    "lngs = []\n",
    "\n",
    "city_counter = 1\n",
    "\n",
    "# Print statments to inform when the data acquisition start\n",
    "print(f\"Beginning Data Retrieval\")\n",
    "print(f\"-------------------------\")\n",
    "\n",
    "for cityx in cities:\n",
    "      \n",
    "    try:\n",
    "        \n",
    "        response = requests.get(query_url2 + cityx).json()\n",
    "        city_name.append(response['name'])\n",
    "        country.append(response[\"sys\"][\"country\"])\n",
    "        max_temp.append(response[\"main\"][\"temp_max\"])\n",
    "        hum.append(response[\"main\"][\"humidity\"])\n",
    "        cloud.append(response[\"clouds\"][\"all\"])\n",
    "        wind_speed.append(response[\"wind\"][\"speed\"])\n",
    "        date.append(response[\"dt\"])\n",
    "        lats.append(response[\"coord\"][\"lat\"])\n",
    "        lngs.append(response[\"coord\"][\"lon\"])\n",
    "        \n",
    "          \n",
    "          #Input name of the city for the print statment\n",
    "        city_selected = response[\"name\"]\n",
    "      \n",
    "        print(f\"Processing record {city_counter} | {city_selected}\")\n",
    "        \n",
    "        city_counter = city_counter + 1\n",
    "      \n",
    "    except(KeyError, IndexError):\n",
    "        print(\"City not found. Skipping...\")     \n",
    "          \n",
    "#Print statement to inform when all records have been acquired\n",
    "print(f\"-------------------------\")\n",
    "print(f\"Data Retrieval Complete\")\n",
    "print(f\"-------------------------\")"
   ]
  },
  {
   "cell_type": "code",
   "execution_count": 13,
   "metadata": {},
   "outputs": [
    {
     "data": {
      "text/html": [
       "<div>\n",
       "<style scoped>\n",
       "    .dataframe tbody tr th:only-of-type {\n",
       "        vertical-align: middle;\n",
       "    }\n",
       "\n",
       "    .dataframe tbody tr th {\n",
       "        vertical-align: top;\n",
       "    }\n",
       "\n",
       "    .dataframe thead th {\n",
       "        text-align: right;\n",
       "    }\n",
       "</style>\n",
       "<table border=\"1\" class=\"dataframe\">\n",
       "  <thead>\n",
       "    <tr style=\"text-align: right;\">\n",
       "      <th></th>\n",
       "      <th>City</th>\n",
       "      <th>Lat</th>\n",
       "      <th>Lng</th>\n",
       "      <th>Max Temp</th>\n",
       "      <th>Humidity</th>\n",
       "      <th>Cloudiness</th>\n",
       "      <th>Wind Speed</th>\n",
       "      <th>Country</th>\n",
       "      <th>Date</th>\n",
       "    </tr>\n",
       "  </thead>\n",
       "  <tbody>\n",
       "    <tr>\n",
       "      <th>0</th>\n",
       "      <td>Kakonko</td>\n",
       "      <td>-3.28</td>\n",
       "      <td>30.96</td>\n",
       "      <td>68.79</td>\n",
       "      <td>52</td>\n",
       "      <td>25</td>\n",
       "      <td>2.86</td>\n",
       "      <td>TZ</td>\n",
       "      <td>1598736704</td>\n",
       "    </tr>\n",
       "    <tr>\n",
       "      <th>1</th>\n",
       "      <td>Leningradskiy</td>\n",
       "      <td>69.38</td>\n",
       "      <td>178.42</td>\n",
       "      <td>36.84</td>\n",
       "      <td>88</td>\n",
       "      <td>100</td>\n",
       "      <td>10.13</td>\n",
       "      <td>RU</td>\n",
       "      <td>1598736705</td>\n",
       "    </tr>\n",
       "    <tr>\n",
       "      <th>2</th>\n",
       "      <td>Presidencia Roque Sáenz Peña</td>\n",
       "      <td>-26.79</td>\n",
       "      <td>-60.44</td>\n",
       "      <td>83.91</td>\n",
       "      <td>45</td>\n",
       "      <td>97</td>\n",
       "      <td>11.30</td>\n",
       "      <td>AR</td>\n",
       "      <td>1598736705</td>\n",
       "    </tr>\n",
       "    <tr>\n",
       "      <th>3</th>\n",
       "      <td>Rikitea</td>\n",
       "      <td>-23.12</td>\n",
       "      <td>-134.97</td>\n",
       "      <td>70.03</td>\n",
       "      <td>68</td>\n",
       "      <td>58</td>\n",
       "      <td>6.98</td>\n",
       "      <td>PF</td>\n",
       "      <td>1598736705</td>\n",
       "    </tr>\n",
       "    <tr>\n",
       "      <th>4</th>\n",
       "      <td>Camacha</td>\n",
       "      <td>33.08</td>\n",
       "      <td>-16.33</td>\n",
       "      <td>71.60</td>\n",
       "      <td>64</td>\n",
       "      <td>40</td>\n",
       "      <td>12.75</td>\n",
       "      <td>PT</td>\n",
       "      <td>1598736706</td>\n",
       "    </tr>\n",
       "    <tr>\n",
       "      <th>...</th>\n",
       "      <td>...</td>\n",
       "      <td>...</td>\n",
       "      <td>...</td>\n",
       "      <td>...</td>\n",
       "      <td>...</td>\n",
       "      <td>...</td>\n",
       "      <td>...</td>\n",
       "      <td>...</td>\n",
       "      <td>...</td>\n",
       "    </tr>\n",
       "    <tr>\n",
       "      <th>569</th>\n",
       "      <td>Haicheng</td>\n",
       "      <td>40.85</td>\n",
       "      <td>122.75</td>\n",
       "      <td>66.97</td>\n",
       "      <td>90</td>\n",
       "      <td>3</td>\n",
       "      <td>2.68</td>\n",
       "      <td>CN</td>\n",
       "      <td>1598736872</td>\n",
       "    </tr>\n",
       "    <tr>\n",
       "      <th>570</th>\n",
       "      <td>Oxapampa</td>\n",
       "      <td>-10.58</td>\n",
       "      <td>-75.40</td>\n",
       "      <td>70.38</td>\n",
       "      <td>60</td>\n",
       "      <td>33</td>\n",
       "      <td>2.71</td>\n",
       "      <td>PE</td>\n",
       "      <td>1598736873</td>\n",
       "    </tr>\n",
       "    <tr>\n",
       "      <th>571</th>\n",
       "      <td>Ardrishaig</td>\n",
       "      <td>56.02</td>\n",
       "      <td>-5.45</td>\n",
       "      <td>53.01</td>\n",
       "      <td>81</td>\n",
       "      <td>20</td>\n",
       "      <td>9.17</td>\n",
       "      <td>GB</td>\n",
       "      <td>1598736873</td>\n",
       "    </tr>\n",
       "    <tr>\n",
       "      <th>572</th>\n",
       "      <td>Saint-Augustin</td>\n",
       "      <td>51.23</td>\n",
       "      <td>-58.65</td>\n",
       "      <td>59.99</td>\n",
       "      <td>60</td>\n",
       "      <td>49</td>\n",
       "      <td>4.65</td>\n",
       "      <td>CA</td>\n",
       "      <td>1598736873</td>\n",
       "    </tr>\n",
       "    <tr>\n",
       "      <th>573</th>\n",
       "      <td>Madimba</td>\n",
       "      <td>-10.40</td>\n",
       "      <td>40.33</td>\n",
       "      <td>72.99</td>\n",
       "      <td>83</td>\n",
       "      <td>0</td>\n",
       "      <td>8.01</td>\n",
       "      <td>TZ</td>\n",
       "      <td>1598736873</td>\n",
       "    </tr>\n",
       "  </tbody>\n",
       "</table>\n",
       "<p>574 rows × 9 columns</p>\n",
       "</div>"
      ],
      "text/plain": [
       "                             City    Lat     Lng  Max Temp  Humidity  \\\n",
       "0                         Kakonko  -3.28   30.96     68.79        52   \n",
       "1                   Leningradskiy  69.38  178.42     36.84        88   \n",
       "2    Presidencia Roque Sáenz Peña -26.79  -60.44     83.91        45   \n",
       "3                         Rikitea -23.12 -134.97     70.03        68   \n",
       "4                         Camacha  33.08  -16.33     71.60        64   \n",
       "..                            ...    ...     ...       ...       ...   \n",
       "569                      Haicheng  40.85  122.75     66.97        90   \n",
       "570                      Oxapampa -10.58  -75.40     70.38        60   \n",
       "571                    Ardrishaig  56.02   -5.45     53.01        81   \n",
       "572                Saint-Augustin  51.23  -58.65     59.99        60   \n",
       "573                       Madimba -10.40   40.33     72.99        83   \n",
       "\n",
       "     Cloudiness  Wind Speed Country        Date  \n",
       "0            25        2.86      TZ  1598736704  \n",
       "1           100       10.13      RU  1598736705  \n",
       "2            97       11.30      AR  1598736705  \n",
       "3            58        6.98      PF  1598736705  \n",
       "4            40       12.75      PT  1598736706  \n",
       "..          ...         ...     ...         ...  \n",
       "569           3        2.68      CN  1598736872  \n",
       "570          33        2.71      PE  1598736873  \n",
       "571          20        9.17      GB  1598736873  \n",
       "572          49        4.65      CA  1598736873  \n",
       "573           0        8.01      TZ  1598736873  \n",
       "\n",
       "[574 rows x 9 columns]"
      ]
     },
     "execution_count": 13,
     "metadata": {},
     "output_type": "execute_result"
    }
   ],
   "source": [
    "weather_dict = {\n",
    "    \"City\": city_name,\n",
    "    \"Lat\": lats,\n",
    "    \"Lng\" : lngs,\n",
    "    \"Max Temp\": max_temp,\n",
    "    \"Humidity\": hum,\n",
    "    \"Cloudiness\": cloud,\n",
    "    \"Wind Speed\": wind_speed,\n",
    "    \"Country\": country, \n",
    "    \"Date\": date\n",
    "}\n",
    "weather_data = pd.DataFrame(weather_dict)\n",
    "weather_data"
   ]
  },
  {
   "cell_type": "markdown",
   "metadata": {},
   "source": [
    "### Convert Raw Data to DataFrame\n",
    "* Export the city data into a .csv.\n",
    "* Display the DataFrame"
   ]
  },
  {
   "cell_type": "code",
   "execution_count": 14,
   "metadata": {},
   "outputs": [],
   "source": [
    "export_csv = weather_data.to_csv(r'WeatherPy.csv', index = False)"
   ]
  },
  {
   "cell_type": "markdown",
   "metadata": {},
   "source": [
    "## Inspect the data and remove the cities where the humidity > 100%.\n",
    "----\n",
    "Skip this step if there are no cities that have humidity > 100%. "
   ]
  },
  {
   "cell_type": "code",
   "execution_count": 15,
   "metadata": {},
   "outputs": [
    {
     "data": {
      "text/html": [
       "<div>\n",
       "<style scoped>\n",
       "    .dataframe tbody tr th:only-of-type {\n",
       "        vertical-align: middle;\n",
       "    }\n",
       "\n",
       "    .dataframe tbody tr th {\n",
       "        vertical-align: top;\n",
       "    }\n",
       "\n",
       "    .dataframe thead th {\n",
       "        text-align: right;\n",
       "    }\n",
       "</style>\n",
       "<table border=\"1\" class=\"dataframe\">\n",
       "  <thead>\n",
       "    <tr style=\"text-align: right;\">\n",
       "      <th></th>\n",
       "      <th>Lat</th>\n",
       "      <th>Lng</th>\n",
       "      <th>Max Temp</th>\n",
       "      <th>Humidity</th>\n",
       "      <th>Cloudiness</th>\n",
       "      <th>Wind Speed</th>\n",
       "      <th>Date</th>\n",
       "    </tr>\n",
       "  </thead>\n",
       "  <tbody>\n",
       "    <tr>\n",
       "      <th>count</th>\n",
       "      <td>574.000000</td>\n",
       "      <td>574.000000</td>\n",
       "      <td>574.000000</td>\n",
       "      <td>574.000000</td>\n",
       "      <td>574.000000</td>\n",
       "      <td>574.000000</td>\n",
       "      <td>5.740000e+02</td>\n",
       "    </tr>\n",
       "    <tr>\n",
       "      <th>mean</th>\n",
       "      <td>19.721882</td>\n",
       "      <td>19.706411</td>\n",
       "      <td>67.631150</td>\n",
       "      <td>69.996516</td>\n",
       "      <td>48.167247</td>\n",
       "      <td>8.274129</td>\n",
       "      <td>1.598737e+09</td>\n",
       "    </tr>\n",
       "    <tr>\n",
       "      <th>std</th>\n",
       "      <td>33.669770</td>\n",
       "      <td>90.489981</td>\n",
       "      <td>14.877498</td>\n",
       "      <td>20.999210</td>\n",
       "      <td>38.379112</td>\n",
       "      <td>5.523186</td>\n",
       "      <td>7.233000e+01</td>\n",
       "    </tr>\n",
       "    <tr>\n",
       "      <th>min</th>\n",
       "      <td>-54.800000</td>\n",
       "      <td>-179.170000</td>\n",
       "      <td>32.230000</td>\n",
       "      <td>3.000000</td>\n",
       "      <td>0.000000</td>\n",
       "      <td>0.290000</td>\n",
       "      <td>1.598736e+09</td>\n",
       "    </tr>\n",
       "    <tr>\n",
       "      <th>25%</th>\n",
       "      <td>-8.765000</td>\n",
       "      <td>-60.025000</td>\n",
       "      <td>54.000000</td>\n",
       "      <td>60.000000</td>\n",
       "      <td>8.250000</td>\n",
       "      <td>3.890000</td>\n",
       "      <td>1.598737e+09</td>\n",
       "    </tr>\n",
       "    <tr>\n",
       "      <th>50%</th>\n",
       "      <td>22.840000</td>\n",
       "      <td>24.170000</td>\n",
       "      <td>70.450000</td>\n",
       "      <td>74.000000</td>\n",
       "      <td>40.000000</td>\n",
       "      <td>6.930000</td>\n",
       "      <td>1.598737e+09</td>\n",
       "    </tr>\n",
       "    <tr>\n",
       "      <th>75%</th>\n",
       "      <td>47.760000</td>\n",
       "      <td>101.805000</td>\n",
       "      <td>79.455000</td>\n",
       "      <td>86.000000</td>\n",
       "      <td>90.000000</td>\n",
       "      <td>11.410000</td>\n",
       "      <td>1.598737e+09</td>\n",
       "    </tr>\n",
       "    <tr>\n",
       "      <th>max</th>\n",
       "      <td>78.220000</td>\n",
       "      <td>179.320000</td>\n",
       "      <td>100.400000</td>\n",
       "      <td>100.000000</td>\n",
       "      <td>100.000000</td>\n",
       "      <td>32.790000</td>\n",
       "      <td>1.598737e+09</td>\n",
       "    </tr>\n",
       "  </tbody>\n",
       "</table>\n",
       "</div>"
      ],
      "text/plain": [
       "              Lat         Lng    Max Temp    Humidity  Cloudiness  Wind Speed  \\\n",
       "count  574.000000  574.000000  574.000000  574.000000  574.000000  574.000000   \n",
       "mean    19.721882   19.706411   67.631150   69.996516   48.167247    8.274129   \n",
       "std     33.669770   90.489981   14.877498   20.999210   38.379112    5.523186   \n",
       "min    -54.800000 -179.170000   32.230000    3.000000    0.000000    0.290000   \n",
       "25%     -8.765000  -60.025000   54.000000   60.000000    8.250000    3.890000   \n",
       "50%     22.840000   24.170000   70.450000   74.000000   40.000000    6.930000   \n",
       "75%     47.760000  101.805000   79.455000   86.000000   90.000000   11.410000   \n",
       "max     78.220000  179.320000  100.400000  100.000000  100.000000   32.790000   \n",
       "\n",
       "               Date  \n",
       "count  5.740000e+02  \n",
       "mean   1.598737e+09  \n",
       "std    7.233000e+01  \n",
       "min    1.598736e+09  \n",
       "25%    1.598737e+09  \n",
       "50%    1.598737e+09  \n",
       "75%    1.598737e+09  \n",
       "max    1.598737e+09  "
      ]
     },
     "execution_count": 15,
     "metadata": {},
     "output_type": "execute_result"
    }
   ],
   "source": [
    "weather_data.describe()"
   ]
  },
  {
   "cell_type": "code",
   "execution_count": 16,
   "metadata": {},
   "outputs": [
    {
     "data": {
      "text/plain": [
       "Int64Index([], dtype='int64')"
      ]
     },
     "execution_count": 16,
     "metadata": {},
     "output_type": "execute_result"
    }
   ],
   "source": [
    "#  Get the indices of cities that have humidity over 100%.\n",
    "high_humidity = weather_data[(weather_data.Humidity>100)].index\n",
    "high_humidity"
   ]
  },
  {
   "cell_type": "markdown",
   "metadata": {},
   "source": [
    "## Plotting the Data\n",
    "* Use proper labeling of the plots using plot titles (including date of analysis) and axes labels.\n",
    "* Save the plotted figures as .pngs."
   ]
  },
  {
   "cell_type": "markdown",
   "metadata": {},
   "source": [
    "## Latitude vs. Temperature Plot"
   ]
  },
  {
   "cell_type": "code",
   "execution_count": 21,
   "metadata": {
    "scrolled": true
   },
   "outputs": [
    {
     "data": {
      "image/png": "[encoded data removed]",
      "text/plain": [
       "<Figure size 432x288 with 1 Axes>"
      ]
     },
     "metadata": {
      "needs_background": "light"
     },
     "output_type": "display_data"
    }
   ],
   "source": [
    "x_values = weather_data['Lat']\n",
    "y_values = weather_data['Max Temp']\n",
    "plt.scatter(x_values,y_values)\n",
    "plt.title(\"Temperature vs. Latitude\")\n",
    "plt.xlabel('Latitude')\n",
    "plt.ylabel('Temperature (F)')\n",
    "plt.savefig(\"TempLatScatter.png\")"
   ]
  },
  {
   "cell_type": "markdown",
   "metadata": {},
   "source": [
    "## Latitude vs. Humidity Plot"
   ]
  },
  {
   "cell_type": "code",
   "execution_count": 23,
   "metadata": {},
   "outputs": [
    {
     "data": {
      "image/png": "[encoded data removed]",
      "text/plain": [
       "<Figure size 432x288 with 1 Axes>"
      ]
     },
     "metadata": {
      "needs_background": "light"
     },
     "output_type": "display_data"
    }
   ],
   "source": [
    "x_values = weather_data['Lat']\n",
    "y_values = weather_data['Humidity']\n",
    "plt.scatter(x_values,y_values)\n",
    "plt.xlabel('Latitude')\n",
    "plt.ylabel('Humidity (%)')\n",
    "plt.savefig(\"HumidityLatScatter.png\")"
   ]
  },
  {
   "cell_type": "markdown",
   "metadata": {},
   "source": [
    "## Latitude vs. Cloudiness Plot"
   ]
  },
  {
   "cell_type": "code",
   "execution_count": 25,
   "metadata": {},
   "outputs": [
    {
     "data": {
      "image/png": "[encoded data removed]",
      "text/plain": [
       "<Figure size 432x288 with 1 Axes>"
      ]
     },
     "metadata": {
      "needs_background": "light"
     },
     "output_type": "display_data"
    }
   ],
   "source": [
    "x_values = weather_data['Lat']\n",
    "y_values = weather_data['Cloudiness']\n",
    "plt.scatter(x_values,y_values)\n",
    "plt.xlabel('Latitude')\n",
    "plt.ylabel('Cloudiness (%)')\n",
    "plt.savefig(\"CloudLatScatter.png\")"
   ]
  },
  {
   "cell_type": "markdown",
   "metadata": {},
   "source": [
    "## Latitude vs. Wind Speed Plot"
   ]
  },
  {
   "cell_type": "code",
   "execution_count": 27,
   "metadata": {},
   "outputs": [
    {
     "data": {
      "image/png": "[encoded data removed]",
      "text/plain": [
       "<Figure size 432x288 with 1 Axes>"
      ]
     },
     "metadata": {
      "needs_background": "light"
     },
     "output_type": "display_data"
    }
   ],
   "source": [
    "x_values = weather_data['Lat']\n",
    "y_values = weather_data['Wind Speed']\n",
    "plt.scatter(x_values,y_values)\n",
    "plt.xlabel('Latitude')\n",
    "plt.ylabel('Wind Speed (mph)')\n",
    "plt.savefig(\"WindLatScatter.png\")"
   ]
  },
  {
   "cell_type": "markdown",
   "metadata": {},
   "source": [
    "## Linear Regression"
   ]
  },
  {
   "cell_type": "markdown",
   "metadata": {},
   "source": [
    "####  Northern Hemisphere - Max Temp vs. Latitude Linear Regression"
   ]
  },
  {
   "cell_type": "code",
   "execution_count": 97,
   "metadata": {},
   "outputs": [
    {
     "name": "stdout",
     "output_type": "stream",
     "text": [
      "1      50.703046\n",
      "4      72.035436\n",
      "5      71.177439\n",
      "6      76.372435\n",
      "8      66.276279\n",
      "         ...    \n",
      "567    63.790438\n",
      "568    57.349584\n",
      "569    67.469247\n",
      "571    58.554306\n",
      "572    61.369241\n",
      "Name: Lat, Length: 381, dtype: float64\n",
      "The r-value is: 0.5756237081454492\n"
     ]
    },
    {
     "data": {
      "image/png": "[encoded data removed]",
      "text/plain": [
       "<Figure size 432x288 with 1 Axes>"
      ]
     },
     "metadata": {
      "needs_background": "light"
     },
     "output_type": "display_data"
    },
    {
     "data": {
      "text/plain": [
       "<Figure size 432x288 with 0 Axes>"
      ]
     },
     "metadata": {},
     "output_type": "display_data"
    }
   ],
   "source": [
    "# Perform a linear regression on max temperature vs. latitude\n",
    "(slope, intercept, rvalue, pvalue, stderr) = linregress(x_values, y_values)\n",
    "\n",
    "# Get regression values\n",
    "regress_values = x_values * slope + intercept\n",
    "print(regress_values)\n",
    "\n",
    "#line equation string\n",
    "line_eq = \"y = \" + str(round(slope,2)) + \"x +\" + str(round(intercept,2))\n",
    "\n",
    "data_north = weather_data.loc[weather_data[\"Lat\"]>=0]\n",
    "# Create Plot\n",
    "x_values = data_north['Lat']\n",
    "y_values = data_north['Max Temp']\n",
    "plt.scatter(x_values,y_values)\n",
    "plt.plot(x_values,regress_values,\"r-\")\n",
    "\n",
    "# Label plot and annotate the line equation\n",
    "plt.xlabel('Latitude')\n",
    "plt.ylabel('Temperature')\n",
    "plt.annotate(line_eq,(20,15),fontsize=15,color=\"red\")\n",
    "\n",
    "# Print r value\n",
    "print(f\"The r-value is: {rvalue**2}\")\n",
    "\n",
    "# Show plot\n",
    "plt.show()\n",
    "plt.savefig(\"NorthLinRegressTempvLat.png\")"
   ]
  },
  {
   "cell_type": "markdown",
   "metadata": {},
   "source": [
    "####  Southern Hemisphere - Max Temp vs. Latitude Linear Regression"
   ]
  },
  {
   "cell_type": "code",
   "execution_count": 98,
   "metadata": {},
   "outputs": [
    {
     "name": "stdout",
     "output_type": "stream",
     "text": [
      "0      81.363145\n",
      "2      61.877760\n",
      "3      64.919502\n",
      "7      55.553919\n",
      "9      83.294279\n",
      "         ...    \n",
      "564    77.293675\n",
      "565    78.669504\n",
      "566    71.036140\n",
      "570    75.312813\n",
      "573    75.461999\n",
      "Name: Lat, Length: 193, dtype: float64\n",
      "The r-value is: 0.5850999859546074\n"
     ]
    },
    {
     "data": {
      "image/png": "[encoded data removed]",
      "text/plain": [
       "<Figure size 432x288 with 1 Axes>"
      ]
     },
     "metadata": {
      "needs_background": "light"
     },
     "output_type": "display_data"
    },
    {
     "data": {
      "text/plain": [
       "<Figure size 432x288 with 0 Axes>"
      ]
     },
     "metadata": {},
     "output_type": "display_data"
    }
   ],
   "source": [
    "# Perform a linear regression on max temperature vs. latitude\n",
    "(slope, intercept, rvalue, pvalue, stderr) = linregress(sx_values, sy_values)\n",
    "\n",
    "# Get regression values\n",
    "sregress_values = sx_values * slope + intercept\n",
    "print(sregress_values)\n",
    "\n",
    "#line equation string\n",
    "line_eq = \"y = \" + str(round(slope,2)) + \"x +\" + str(round(intercept,2))\n",
    "\n",
    "data_south = weather_data.loc[weather_data[\"Lat\"]<=0]\n",
    "# Create Plot\n",
    "sx_values = data_south['Lat']\n",
    "sy_values = data_south['Max Temp']\n",
    "plt.scatter(sx_values,sy_values)\n",
    "plt.plot(sx_values,sregress_values,\"r-\")\n",
    "\n",
    "# Label plot and annotate the line equation\n",
    "plt.xlabel('Latitude')\n",
    "plt.ylabel('Temperature')\n",
    "plt.annotate(line_eq,(20,15),fontsize=15,color=\"red\")\n",
    "\n",
    "# Print r value\n",
    "print(f\"The r-value is: {rvalue**2}\")\n",
    "\n",
    "# Show plot\n",
    "plt.show()\n",
    "plt.savefig(\"SouthLinRegressTempvLat.png\")"
   ]
  },
  {
   "cell_type": "markdown",
   "metadata": {},
   "source": [
    "####  Northern Hemisphere - Humidity (%) vs. Latitude Linear Regression"
   ]
  },
  {
   "cell_type": "code",
   "execution_count": 99,
   "metadata": {},
   "outputs": [
    {
     "name": "stdout",
     "output_type": "stream",
     "text": [
      "1      73.053759\n",
      "4      71.828631\n",
      "5      71.877906\n",
      "6      71.579555\n",
      "8      72.159382\n",
      "         ...    \n",
      "567    72.302145\n",
      "568    72.672046\n",
      "569    72.090869\n",
      "571    72.602858\n",
      "572    72.441195\n",
      "Name: Lat, Length: 381, dtype: float64\n",
      "The r-value is: 0.0009860373420049998\n"
     ]
    },
    {
     "data": {
      "image/png": "[encoded data removed]",
      "text/plain": [
       "<Figure size 432x288 with 1 Axes>"
      ]
     },
     "metadata": {
      "needs_background": "light"
     },
     "output_type": "display_data"
    },
    {
     "data": {
      "text/plain": [
       "<Figure size 432x288 with 0 Axes>"
      ]
     },
     "metadata": {},
     "output_type": "display_data"
    }
   ],
   "source": [
    "# Perform a linear regression on max temperature vs. latitude\n",
    "(slope, intercept, rvalue, pvalue, stderr) = linregress(nhx_values, nhy_values)\n",
    "\n",
    "# Get regression values\n",
    "nhregress_values = nhx_values * slope + intercept\n",
    "print(nhregress_values)\n",
    "\n",
    "#line equation string\n",
    "line_eq = \"y = \" + str(round(slope,2)) + \"x +\" + str(round(intercept,2))\n",
    "\n",
    "data_north = weather_data.loc[weather_data[\"Lat\"]>=0]\n",
    "# Create Plot\n",
    "nhx_values = data_north['Lat']\n",
    "nhy_values = data_north['Humidity']\n",
    "plt.scatter(nhx_values,nhy_values)\n",
    "plt.plot(nhx_values,nhregress_values,\"r-\")\n",
    "\n",
    "# Label plot and annotate the line equation\n",
    "plt.xlabel('Latitude')\n",
    "plt.ylabel('Humidity')\n",
    "plt.annotate(line_eq,(20,15),fontsize=15,color=\"red\")\n",
    "\n",
    "# Print r value\n",
    "print(f\"The r-value is: {rvalue**2}\")\n",
    "\n",
    "# Show plot\n",
    "plt.show()\n",
    "plt.savefig(\"NorthLinRegressHumvLat.png\")"
   ]
  },
  {
   "cell_type": "markdown",
   "metadata": {},
   "source": [
    "####  Southern Hemisphere - Humidity (%) vs. Latitude Linear Regression"
   ]
  },
  {
   "cell_type": "code",
   "execution_count": 100,
   "metadata": {},
   "outputs": [
    {
     "name": "stdout",
     "output_type": "stream",
     "text": [
      "0      67.273661\n",
      "2      65.415582\n",
      "3      65.705635\n",
      "7      64.812556\n",
      "9      67.457809\n",
      "         ...    \n",
      "564    66.885606\n",
      "565    67.016802\n",
      "566    66.288903\n",
      "570    66.696716\n",
      "573    66.710942\n",
      "Name: Lat, Length: 193, dtype: float64\n",
      "The r-value is: 0.002632356857446961\n"
     ]
    },
    {
     "data": {
      "image/png": "[encoded data removed]",
      "text/plain": [
       "<Figure size 432x288 with 1 Axes>"
      ]
     },
     "metadata": {
      "needs_background": "light"
     },
     "output_type": "display_data"
    },
    {
     "data": {
      "text/plain": [
       "<Figure size 432x288 with 0 Axes>"
      ]
     },
     "metadata": {},
     "output_type": "display_data"
    }
   ],
   "source": [
    "# Perform a linear regression on max temperature vs. latitude\n",
    "(slope, intercept, rvalue, pvalue, stderr) = linregress(shx_values, shy_values)\n",
    "\n",
    "# Get regression values\n",
    "shregress_values = shx_values * slope + intercept\n",
    "print(shregress_values)\n",
    "\n",
    "#line equation string\n",
    "line_eq = \"y = \" + str(round(slope,2)) + \"x +\" + str(round(intercept,2))\n",
    "\n",
    "data_south = weather_data.loc[weather_data[\"Lat\"]<=0]\n",
    "# Create Plot\n",
    "shx_values = data_south['Lat']\n",
    "shy_values = data_south['Humidity']\n",
    "plt.scatter(shx_values,shy_values)\n",
    "plt.plot(shx_values,shregress_values,\"r-\")\n",
    "\n",
    "# Label plot and annotate the line equation\n",
    "plt.xlabel('Latitude')\n",
    "plt.ylabel('Humidity')\n",
    "plt.annotate(line_eq,(20,15),fontsize=15,color=\"red\")\n",
    "\n",
    "# Print r value\n",
    "print(f\"The r-value is: {rvalue**2}\")\n",
    "\n",
    "# Show plot\n",
    "plt.show()\n",
    "plt.savefig(\"SouthRegressHumvLat.png\")"
   ]
  },
  {
   "cell_type": "markdown",
   "metadata": {},
   "source": [
    "####  Northern Hemisphere - Cloudiness (%) vs. Latitude Linear Regression"
   ]
  },
  {
   "cell_type": "code",
   "execution_count": 101,
   "metadata": {},
   "outputs": [
    {
     "name": "stdout",
     "output_type": "stream",
     "text": [
      "1      73.016238\n",
      "4      70.147320\n",
      "5      70.262709\n",
      "6      69.564053\n",
      "8      70.921849\n",
      "         ...    \n",
      "567    71.256161\n",
      "568    72.122369\n",
      "569    70.761411\n",
      "571    71.960350\n",
      "572    71.581779\n",
      "Name: Lat, Length: 381, dtype: float64\n",
      "The r-value is: 0.00041158866021777233\n"
     ]
    },
    {
     "data": {
      "image/png": "[encoded data removed]",
      "text/plain": [
       "<Figure size 432x288 with 1 Axes>"
      ]
     },
     "metadata": {
      "needs_background": "light"
     },
     "output_type": "display_data"
    },
    {
     "data": {
      "text/plain": [
       "<Figure size 432x288 with 0 Axes>"
      ]
     },
     "metadata": {},
     "output_type": "display_data"
    }
   ],
   "source": [
    "# Get regression values\n",
    "cnregress_values = cnx_values * slope + intercept\n",
    "print(cnregress_values)\n",
    "\n",
    "# Create Plot\n",
    "cnx_values = data_north['Lat']\n",
    "cny_values = data_north['Cloudiness']\n",
    "plt.scatter(cnx_values,cny_values)\n",
    "plt.plot(cnx_values,cnregress_values,\"r-\")\n",
    "\n",
    "# Perform a linear regression on max temperature vs. latitude\n",
    "(slope, intercept, rvalue, pvalue, stderr) = linregress(cnx_values, cny_values)\n",
    "\n",
    "#line equation string\n",
    "line_eq = \"y = \" + str(round(slope,2)) + \"x +\" + str(round(intercept,2))\n",
    "\n",
    "data_north = weather_data.loc[weather_data[\"Lat\"]>=0]\n",
    "\n",
    "# Label plot and annotate the line equation\n",
    "plt.xlabel('Latitude')\n",
    "plt.ylabel('Cloudiness')\n",
    "plt.annotate(line_eq,(20,15),fontsize=15,color=\"red\")\n",
    "\n",
    "# Print r value\n",
    "print(f\"The r-value is: {rvalue**2}\")\n",
    "\n",
    "# Show plot\n",
    "plt.show()\n",
    "plt.savefig(\"NorthLinRegressCloudvLat.png\")"
   ]
  },
  {
   "cell_type": "markdown",
   "metadata": {},
   "source": [
    "####  Southern Hemisphere - Cloudiness (%) vs. Latitude Linear Regression"
   ]
  },
  {
   "cell_type": "code",
   "execution_count": 102,
   "metadata": {},
   "outputs": [
    {
     "name": "stdout",
     "output_type": "stream",
     "text": [
      "0      49.710492\n",
      "2      48.758479\n",
      "3      48.907092\n",
      "7      48.449511\n",
      "9      49.804843\n",
      "         ...    \n",
      "564    49.511667\n",
      "565    49.578887\n",
      "566    49.205937\n",
      "570    49.414886\n",
      "573    49.422175\n",
      "Name: Lat, Length: 193, dtype: float64\n",
      "The r-value is: 0.0021375029482405385\n"
     ]
    },
    {
     "data": {
      "image/png": "[encoded data removed]",
      "text/plain": [
       "<Figure size 432x288 with 1 Axes>"
      ]
     },
     "metadata": {
      "needs_background": "light"
     },
     "output_type": "display_data"
    },
    {
     "data": {
      "text/plain": [
       "<Figure size 432x288 with 0 Axes>"
      ]
     },
     "metadata": {},
     "output_type": "display_data"
    }
   ],
   "source": [
    "# Get regression values\n",
    "csregress_values = csx_values * slope + intercept\n",
    "print(csregress_values)\n",
    "\n",
    "# Create Plot\n",
    "csx_values = data_south['Lat']\n",
    "csy_values = data_south['Cloudiness']\n",
    "plt.scatter(csx_values,csy_values)\n",
    "plt.plot(csx_values,csregress_values,\"r-\")\n",
    "\n",
    "# Perform a linear regression on max temperature vs. latitude\n",
    "(slope, intercept, rvalue, pvalue, stderr) = linregress(csx_values, csy_values)\n",
    "\n",
    "\n",
    "#line equation string\n",
    "line_eq = \"y = \" + str(round(slope,2)) + \"x +\" + str(round(intercept,2))\n",
    "\n",
    "data_south = weather_data.loc[weather_data[\"Lat\"]<=0]\n",
    "\n",
    "\n",
    "# Label plot and annotate the line equation\n",
    "plt.xlabel('Latitude')\n",
    "plt.ylabel('Cloudiness')\n",
    "plt.annotate(line_eq,(20,15),fontsize=15,color=\"red\")\n",
    "\n",
    "# Print r value\n",
    "print(f\"The r-value is: {rvalue**2}\")\n",
    "\n",
    "# Show plot\n",
    "plt.show()\n",
    "plt.savefig(\"SouthLinRegressCloudvLat.png\")"
   ]
  },
  {
   "cell_type": "markdown",
   "metadata": {},
   "source": [
    "####  Northern Hemisphere - Wind Speed (mph) vs. Latitude Linear Regression"
   ]
  },
  {
   "cell_type": "code",
   "execution_count": 104,
   "metadata": {},
   "outputs": [
    {
     "name": "stdout",
     "output_type": "stream",
     "text": [
      "1      8.133603\n",
      "4      7.571635\n",
      "5      7.594238\n",
      "6      7.457384\n",
      "8      7.723351\n",
      "         ...   \n",
      "567    7.788837\n",
      "568    7.958511\n",
      "569    7.691924\n",
      "571    7.926774\n",
      "572    7.852619\n",
      "Name: Lat, Length: 381, dtype: float64\n",
      "The r-value is: 0.0037108853315319826\n"
     ]
    },
    {
     "data": {
      "image/png": "[encoded data removed]",
      "text/plain": [
       "<Figure size 432x288 with 1 Axes>"
      ]
     },
     "metadata": {
      "needs_background": "light"
     },
     "output_type": "display_data"
    },
    {
     "data": {
      "text/plain": [
       "<Figure size 432x288 with 0 Axes>"
      ]
     },
     "metadata": {},
     "output_type": "display_data"
    }
   ],
   "source": [
    "# Perform a linear regression on max temperature vs. latitude\n",
    "(slope, intercept, rvalue, pvalue, stderr) = linregress(x_values, y_values)\n",
    "\n",
    "# Get regression values\n",
    "regress_values = x_values * slope + intercept\n",
    "print(regress_values)\n",
    "\n",
    "#line equation string\n",
    "line_eq = \"y = \" + str(round(slope,2)) + \"x +\" + str(round(intercept,2))\n",
    "\n",
    "data_north = weather_data.loc[weather_data[\"Lat\"]>=0]\n",
    "# Create Plot\n",
    "nwx_values = data_north['Lat']\n",
    "nwy_values = data_north['Wind Speed']\n",
    "plt.scatter(nwx_values,nwy_values)\n",
    "plt.plot(x_values,regress_values,\"r-\")\n",
    "\n",
    "# Label plot and annotate the line equation\n",
    "plt.xlabel('Latitude')\n",
    "plt.ylabel('Wind Speed')\n",
    "plt.annotate(line_eq,(20,15),fontsize=15,color=\"red\")\n",
    "\n",
    "# Print r value\n",
    "print(f\"The r-value is: {rvalue**2}\")\n",
    "\n",
    "# Show plot\n",
    "plt.show()\n",
    "plt.savefig(\"NorthLinRegressWSvLat.png\")"
   ]
  },
  {
   "cell_type": "markdown",
   "metadata": {},
   "source": [
    "####  Southern Hemisphere - Wind Speed (mph) vs. Latitude Linear Regression"
   ]
  },
  {
   "cell_type": "code",
   "execution_count": 108,
   "metadata": {},
   "outputs": [
    {
     "name": "stdout",
     "output_type": "stream",
     "text": [
      "0       7.957723\n",
      "2       9.988892\n",
      "3       9.671819\n",
      "7      10.648093\n",
      "9       7.756421\n",
      "         ...    \n",
      "564     8.381928\n",
      "565     8.238510\n",
      "566     9.034217\n",
      "570     8.588414\n",
      "573     8.572863\n",
      "Name: Lat, Length: 193, dtype: float64\n",
      "The r-value is: 0.03270858821522233\n"
     ]
    },
    {
     "data": {
      "image/png": "[encoded data removed]",
      "text/plain": [
       "<Figure size 432x288 with 1 Axes>"
      ]
     },
     "metadata": {
      "needs_background": "light"
     },
     "output_type": "display_data"
    },
    {
     "data": {
      "text/plain": [
       "<Figure size 432x288 with 0 Axes>"
      ]
     },
     "metadata": {},
     "output_type": "display_data"
    }
   ],
   "source": [
    "# Perform a linear regression on max temperature vs. latitude\n",
    "(slope, intercept, rvalue, pvalue, stderr) = linregress(swx_values, swy_values)\n",
    "\n",
    "# Get regression values\n",
    "swregress_values = swx_values * slope + intercept\n",
    "print(swregress_values)\n",
    "\n",
    "#line equation string\n",
    "line_eq = \"y = \" + str(round(slope,2)) + \"x +\" + str(round(intercept,2))\n",
    "\n",
    "data_south = weather_data.loc[weather_data[\"Lat\"]<=0]\n",
    "# Create Plot\n",
    "swx_values = data_south['Lat']\n",
    "swy_values = data_south['Wind Speed']\n",
    "plt.scatter(swx_values,swy_values)\n",
    "plt.plot(swx_values,swregress_values,\"r-\")\n",
    "\n",
    "# Label plot and annotate the line equation\n",
    "plt.xlabel('Latitude')\n",
    "plt.ylabel('Wind Speed')\n",
    "plt.annotate(line_eq,(20,15),fontsize=15,color=\"red\")\n",
    "\n",
    "# Print r value\n",
    "print(f\"The r-value is: {rvalue**2}\")\n",
    "\n",
    "# Show plot\n",
    "plt.show()\n",
    "plt.savefig(\"SouthLinRegressWSvLat.png\")"
   ]
  },
  {
   "cell_type": "code",
   "execution_count": null,
   "metadata": {},
   "outputs": [],
   "source": []
  }
 ],
 "metadata": {
  "anaconda-cloud": {},
  "kernel_info": {
   "name": "python3"
  },
  "kernelspec": {
   "display_name": "Python 3",
   "language": "python",
   "name": "python3"
  },
  "language_info": {
   "codemirror_mode": {
    "name": "ipython",
    "version": 3
   },
   "file_extension": ".py",
   "mimetype": "text/x-python",
   "name": "python",
   "nbconvert_exporter": "python",
   "pygments_lexer": "ipython3",
   "version": "3.8.3"
  },
  "latex_envs": {
   "LaTeX_envs_menu_present": true,
   "autoclose": false,
   "autocomplete": true,
   "bibliofile": "biblio.bib",
   "cite_by": "apalike",
   "current_citInitial": 1,
   "eqLabelWithNumbers": true,
   "eqNumInitial": 1,
   "hotkeys": {
    "equation": "Ctrl-E",
    "itemize": "Ctrl-I"
   },
   "labels_anchors": false,
   "latex_user_defs": false,
   "report_style_numbering": false,
   "user_envs_cfg": false
  },
  "nteract": {
   "version": "0.12.3"
  }
 },
 "nbformat": 4,
 "nbformat_minor": 2
}
